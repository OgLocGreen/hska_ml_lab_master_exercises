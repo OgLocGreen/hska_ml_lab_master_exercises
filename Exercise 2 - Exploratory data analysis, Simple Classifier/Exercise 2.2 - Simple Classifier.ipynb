{
 "cells": [
  {
   "cell_type": "markdown",
   "metadata": {},
   "source": [
    "# Simple Classifier\n",
    "In der vorherigen Teilaufgabe haben Sie einiges über die Struktur der Daten gelernt. Nun sollen Sie dieses Wissen einsetzen um eine erste Vorhersage auf einem Testdatensatz zu treffen. Im folgenden werden die notwendigen Imports getätigt und das Dataset eingelesen."
   ]
  },
  {
   "cell_type": "markdown",
   "metadata": {},
   "source": [
    "### Imports"
   ]
  },
  {
   "cell_type": "code",
   "execution_count": 665,
   "metadata": {},
   "outputs": [],
   "source": [
    "import numpy as np\n",
    "import csv as csv\n",
    "import matplotlib.pyplot as plt\n",
    "import pandas as pd\n",
    "import itertools\n",
    "%matplotlib inline"
   ]
  },
  {
   "cell_type": "markdown",
   "metadata": {},
   "source": [
    "### Daten einlesen"
   ]
  },
  {
   "cell_type": "code",
   "execution_count": 666,
   "metadata": {},
   "outputs": [],
   "source": [
    "DATA_FILE = '../Data/original_titanic.csv'\n",
    "# TODO : implement\n",
    "df = None\n",
    "df = pd.read_csv(DATA_FILE, header=0)\n"
   ]
  },
  {
   "cell_type": "markdown",
   "metadata": {},
   "source": [
    "### Datenlücken interpolieren\n",
    "\n",
    "Gerne können Sie zum Füllen der Datenlücken auch Ihre Implementierung aus der vorherigen Teilaufgabe einsetzen."
   ]
  },
  {
   "cell_type": "code",
   "execution_count": 667,
   "metadata": {},
   "outputs": [
    {
     "name": "stdout",
     "output_type": "stream",
     "text": [
      "1309\n",
      "1046\n"
     ]
    }
   ],
   "source": [
    "def prepareData(df):\n",
    "    #to set a selection of a data frame please dont use the chained [] operator, but the .loc operator\n",
    "    #(see http://pandas.pydata.org/pandas-docs/stable/indexing.html#indexing-view-versus-copy for details)\n",
    "    \n",
    "    #minimal working example to set all null age values to 42 - probably you can do better :-)\n",
    "    df.loc[df.Age.isnull(),'Age'] = None\n",
    "    df.loc[df.Pclass.isnull(),'Pclass'] = None\n",
    "    df.loc[df.Sex.isnull(),\"Sex\"] = None\n",
    "    return df\n",
    "    \n",
    "#df = prepareData(df)\n",
    "print(len(df))\n",
    "df2 = df.copy()\n",
    "df2 = prepareData(df2)\n",
    "df2.dropna(subset = [\"Pclass\"], inplace=True)\n",
    "df2.dropna(subset = [\"Age\"], inplace=True)\n",
    "df2.dropna(subset = [\"Sex\"], inplace=True)\n",
    "print(len(df2))"
   ]
  },
  {
   "cell_type": "markdown",
   "metadata": {},
   "source": [
    "### Datensatz stochastisch verändern\n",
    "\n",
    "Es wird der komplette Datensatz durchmischt. Finden Sie hierfür geeignete Methoden (Python, Numpy, Pandas). Geben Sie die ersten fünf Zeilen des durchmischten Datensatzes aus. Weisen Sie nach, dass lediglich die Reihenfolge der Daten geändert wurde und <b>nicht(!)</b> die Merkmals-Spalten."
   ]
  },
  {
   "cell_type": "markdown",
   "source": [
    "### Lösung mit Sklearn"
   ],
   "metadata": {
    "collapsed": false,
    "pycharm": {
     "name": "#%% md\n"
    }
   }
  },
  {
   "cell_type": "code",
   "execution_count": 668,
   "metadata": {},
   "outputs": [
    {
     "name": "stdout",
     "output_type": "stream",
     "text": [
      "   PassengerId  Survived  Pclass  \\\n",
      "0            1         1       1   \n",
      "1            2         1       1   \n",
      "2            3         0       1   \n",
      "3            4         0       1   \n",
      "4            5         0       1   \n",
      "\n",
      "                                              Name     Sex    Age  SibSp  \\\n",
      "0                    Allen, Miss. Elisabeth Walton  female  29.00      0   \n",
      "1                   Allison, Master. Hudson Trevor    male   0.92      1   \n",
      "2                     Allison, Miss. Helen Loraine  female   2.00      1   \n",
      "3             Allison, Mr. Hudson Joshua Creighton    male  30.00      1   \n",
      "4  Allison, Mrs. Hudson J C (Bessie Waldo Daniels)  female  25.00      1   \n",
      "\n",
      "   Parch  Ticket      Fare    Cabin Embarked                        Home-Dest  \n",
      "0      0   24160  211.3375       B5        S                     St Louis, MO  \n",
      "1      2  113781  151.5500  C22 C26        S  Montreal, PQ / Chesterville, ON  \n",
      "2      2  113781  151.5500  C22 C26        S  Montreal, PQ / Chesterville, ON  \n",
      "3      2  113781  151.5500  C22 C26        S  Montreal, PQ / Chesterville, ON  \n",
      "4      2  113781  151.5500  C22 C26        S  Montreal, PQ / Chesterville, ON  \n",
      "      PassengerId  Survived  Pclass                         Name   Sex   Age  \\\n",
      "768           769         0       3           Denkoff, Mr. Mitto  male   NaN   \n",
      "950           951         0       3   Larsson, Mr. August Viktor  male  29.0   \n",
      "406           407         0       2        Faunthorpe, Mr. Harry  male  40.0   \n",
      "1268         1269         0       3  van Melkebeke, Mr. Philemon  male   NaN   \n",
      "244           245         0       1          Ross, Mr. John Hugo  male  36.0   \n",
      "\n",
      "      SibSp  Parch  Ticket     Fare Cabin Embarked                   Home-Dest  \n",
      "768       0      0  349225   7.8958   NaN        S    Bulgaria Coon Rapids, IA  \n",
      "950       0      0    7545   9.4833   NaN        S                         NaN  \n",
      "406       1      0    2926  26.0000   NaN        S  England / Philadelphia, PA  \n",
      "1268      0      0  345777   9.5000   NaN        S                         NaN  \n",
      "244       0      0   13049  40.1250   A10        C                Winnipeg, MB  \n"
     ]
    }
   ],
   "source": [
    "from sklearn.utils import shuffle\n",
    "\n",
    "print(df[:5])\n",
    "df_shuffled = shuffle(df)\n",
    "print(df_shuffled[:5])"
   ]
  },
  {
   "cell_type": "markdown",
   "source": [
    "### Umsetzung mit Pandas"
   ],
   "metadata": {
    "collapsed": false,
    "pycharm": {
     "name": "#%% md\n"
    }
   }
  },
  {
   "cell_type": "code",
   "execution_count": 669,
   "outputs": [
    {
     "name": "stdout",
     "output_type": "stream",
     "text": [
      "   PassengerId  Survived  Pclass  \\\n",
      "0            1         1       1   \n",
      "1            2         1       1   \n",
      "2            3         0       1   \n",
      "3            4         0       1   \n",
      "4            5         0       1   \n",
      "\n",
      "                                              Name     Sex    Age  SibSp  \\\n",
      "0                    Allen, Miss. Elisabeth Walton  female  29.00      0   \n",
      "1                   Allison, Master. Hudson Trevor    male   0.92      1   \n",
      "2                     Allison, Miss. Helen Loraine  female   2.00      1   \n",
      "3             Allison, Mr. Hudson Joshua Creighton    male  30.00      1   \n",
      "4  Allison, Mrs. Hudson J C (Bessie Waldo Daniels)  female  25.00      1   \n",
      "\n",
      "   Parch  Ticket      Fare    Cabin Embarked                        Home-Dest  \n",
      "0      0   24160  211.3375       B5        S                     St Louis, MO  \n",
      "1      2  113781  151.5500  C22 C26        S  Montreal, PQ / Chesterville, ON  \n",
      "2      2  113781  151.5500  C22 C26        S  Montreal, PQ / Chesterville, ON  \n",
      "3      2  113781  151.5500  C22 C26        S  Montreal, PQ / Chesterville, ON  \n",
      "4      2  113781  151.5500  C22 C26        S  Montreal, PQ / Chesterville, ON  \n",
      "   PassengerId  Survived  Pclass                         Name   Sex   Age  \\\n",
      "0          702         0       3             Calic, Mr. Petar  male  17.0   \n",
      "1          557         0       2  Sharp, Mr. Percival James R  male  27.0   \n",
      "2          540         0       2           Pulbaum, Mr. Franz  male  27.0   \n",
      "3          433         1       2           Harris, Mr. George  male  62.0   \n",
      "4         1166         0       3             Saad, Mr. Khalil  male  25.0   \n",
      "\n",
      "   SibSp  Parch         Ticket     Fare Cabin Embarked         Home-Dest  \n",
      "0      0      0         315086   8.6625   NaN        S               NaN  \n",
      "1      0      0         244358  26.0000   NaN        S  Hornsey, England  \n",
      "2      0      0  SC/PARIS 2168  15.0333   NaN        C             Paris  \n",
      "3      0      0    S.W./PP 752  10.5000   NaN        S            London  \n",
      "4      0      0           2672   7.2250   NaN        C               NaN  \n"
     ]
    }
   ],
   "source": [
    "print(df[:5])\n",
    "df_shuffled2 = df.sample(frac=1).reset_index(drop=True)\n",
    "print(df_shuffled2[:5])"
   ],
   "metadata": {
    "collapsed": false,
    "pycharm": {
     "name": "#%%\n"
    }
   }
  },
  {
   "cell_type": "markdown",
   "metadata": {},
   "source": [
    "### Aufteilung in Trainings- und Testdatensatz\n",
    "\n",
    "Teilen Sie den stochastisch veränderten Datensatz in Trainings- und Testdatensatz mit der Verteilung von 80% (Train) zu 20% (Test) auf. Geben Sie die Länge der Datensätze aus."
   ]
  },
  {
   "cell_type": "code",
   "execution_count": 670,
   "metadata": {},
   "outputs": [
    {
     "name": "stdout",
     "output_type": "stream",
     "text": [
      "1047\n",
      "262\n"
     ]
    }
   ],
   "source": [
    "from sklearn.model_selection import train_test_split\n",
    "\n",
    "df_train, df_test  = train_test_split(df_shuffled, test_size=0.2)\n",
    "print(len(df_train))\n",
    "print(len(df_test))"
   ]
  },
  {
   "cell_type": "markdown",
   "metadata": {},
   "source": [
    "### Performance von Machine Learing Algorithmen\n",
    "\n",
    "Die Performance von Machine Learing Algorithmen kann unter anderem anhand der Korreklassifizierungsrate (engl. Accuracy) ermittelt werden. Diese wird über die Verwechslungsmatrix (engl. Confusion matrix) (siehe Abbildung) wie folgt definiert: <br>\n",
    "\n",
    "TP = True Positive <br>\n",
    "TN = True Negative <br>\n",
    "FP = False Positive <br>\n",
    "FN = False Negative <br>\n",
    "ACC = Accuracy <br>\n",
    "\n",
    "$ACC = \\frac{(TP + TN)} {(TP+TN+FP+FN)}$\n",
    "\n",
    "<img src=\"../Figures/Confusion-Matrix.png\" alt=\"drawing\" style=\"width:300px;\"/>\n",
    "\n"
   ]
  },
  {
   "cell_type": "markdown",
   "metadata": {},
   "source": [
    "### Implementierung des Algorithmus"
   ]
  },
  {
   "cell_type": "markdown",
   "metadata": {},
   "source": [
    "Schreiben Sie eine Funktion um die Klasse *Survived*, mit ihren beiden Ausprägungen 0 und 1, anhand von einem oder mehreren Merkmalen vorherzusagen. Verwenden Sie dazu ein einfaches Modell in welchem Sie ihr bisheriges Wissen über den Datensatz einsetzen."
   ]
  },
  {
   "cell_type": "code",
   "execution_count": 671,
   "metadata": {},
   "outputs": [],
   "source": [
    "def predict(df):\n",
    "    \"\"\"\n",
    "    Predicts out of a Single Sample if Alive\n",
    "    :return True if Alive\n",
    "    :return False if Dead\n",
    "    \"\"\"\n",
    "    if df[\"Pclass\"] == 1 and df[\"Sex\"] == \"female\" and df[\"Age\"] < 30:\n",
    "        return True\n",
    "    elif df[\"Pclass\"] == 2 and df[\"Sex\"] == \"female\" and df[\"Age\"] < 20:\n",
    "        return True\n",
    "    else:\n",
    "        return False"
   ]
  },
  {
   "cell_type": "markdown",
   "metadata": {},
   "source": [
    "### Testen des Algorithmus\n"
   ]
  },
  {
   "cell_type": "code",
   "execution_count": 672,
   "outputs": [
    {
     "name": "stdout",
     "output_type": "stream",
     "text": [
      "PassengerId                                  37\n",
      "Survived                                      1\n",
      "Pclass                                      1.0\n",
      "Name                Bowerman, Miss. Elsie Edith\n",
      "Sex                                      female\n",
      "Age                                        22.0\n",
      "SibSp                                         0\n",
      "Parch                                         1\n",
      "Ticket                                   113505\n",
      "Fare                                       55.0\n",
      "Cabin                                       E33\n",
      "Embarked                                      S\n",
      "Home-Dest      St Leonards-on-Sea, England Ohio\n",
      "Name: 36, dtype: object\n",
      "Will Bowerman, Miss. Elsie Edith Survived? True\n",
      "PassengerId                                       1046\n",
      "Survived                                             0\n",
      "Pclass                                             3.0\n",
      "Name           Myhrman, Mr. Pehr Fabian Oliver Malkolm\n",
      "Sex                                               male\n",
      "Age                                               18.0\n",
      "SibSp                                                0\n",
      "Parch                                                0\n",
      "Ticket                                          347078\n",
      "Fare                                              7.75\n",
      "Cabin                                              NaN\n",
      "Embarked                                             S\n",
      "Home-Dest                                          NaN\n",
      "Name: 1045, dtype: object\n",
      "Will Myhrman, Mr. Pehr Fabian Oliver Malkolm Survived? False\n",
      "PassengerId                               660\n",
      "Survived                                    1\n",
      "Pclass                                    3.0\n",
      "Name           Baclini, Miss. Marie Catherine\n",
      "Sex                                    female\n",
      "Age                                       5.0\n",
      "SibSp                                       2\n",
      "Parch                                       1\n",
      "Ticket                                   2666\n",
      "Fare                                  19.2583\n",
      "Cabin                                     NaN\n",
      "Embarked                                    C\n",
      "Home-Dest                  Syria New York, NY\n",
      "Name: 659, dtype: object\n",
      "Will Baclini, Miss. Marie Catherine Survived? False\n"
     ]
    }
   ],
   "source": [
    "persons = df2.sample(n= 3, random_state=1)\n",
    "for index, row in persons.iterrows():\n",
    "    print(row)\n",
    "    print(\"Will\", row[\"Name\"], \"Survived?\", predict(row) )\n"
   ],
   "metadata": {
    "collapsed": false,
    "pycharm": {
     "name": "#%%\n"
    }
   }
  },
  {
   "cell_type": "markdown",
   "metadata": {},
   "source": [
    "Testen Sie die predict() Methode mit den Datenobjekten aus dem Testdatensatz. Ermitteln sie hierzu die Korreklassifizierungsrate."
   ]
  },
  {
   "cell_type": "markdown",
   "source": [
    "### sklearn\n"
   ],
   "metadata": {
    "collapsed": false,
    "pycharm": {
     "name": "#%% md\n"
    }
   }
  },
  {
   "cell_type": "code",
   "execution_count": 673,
   "outputs": [
    {
     "name": "stdout",
     "output_type": "stream",
     "text": [
      "accuracy_score 0.6450381679389313\n"
     ]
    }
   ],
   "source": [
    "from sklearn.metrics import accuracy_score\n",
    "y_pred = []\n",
    "y_true = []\n",
    "\n",
    "#n = 500  ### how many samples\n",
    "#samples = df2.sample(n=n, random_state=1)\n",
    "\n",
    "for index, row in df_test.iterrows():\n",
    "    if predict(row):\n",
    "         y_pred.append(1)\n",
    "    else:\n",
    "        y_pred.append(0)\n",
    "    if row[\"Survived\"]:\n",
    "        y_true.append(1)\n",
    "    else:\n",
    "        y_true.append(0)\n",
    "print(\"accuracy_score\",accuracy_score(y_true, y_pred))"
   ],
   "metadata": {
    "collapsed": false,
    "pycharm": {
     "name": "#%%\n"
    }
   }
  }
 ],
 "metadata": {
  "interpreter": {
   "hash": "bbd5b416a8e5619b29095f47e25a760d33ae8dd6ce65b6de92bb99b22668b00d"
  },
  "kernelspec": {
   "name": "pycharm-326914a4",
   "language": "python",
   "display_name": "PyCharm (hska_ml_lab_master_exercises)"
  },
  "language_info": {
   "codemirror_mode": {
    "name": "ipython",
    "version": 3
   },
   "file_extension": ".py",
   "mimetype": "text/x-python",
   "name": "python",
   "nbconvert_exporter": "python",
   "pygments_lexer": "ipython3",
   "version": "3.8.0"
  }
 },
 "nbformat": 4,
 "nbformat_minor": 2
}