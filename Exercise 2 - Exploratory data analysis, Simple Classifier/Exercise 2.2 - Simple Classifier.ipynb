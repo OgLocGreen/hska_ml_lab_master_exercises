{
 "cells": [
  {
   "cell_type": "markdown",
   "metadata": {},
   "source": [
    "# Simple Classifier\n",
    "In der vorherigen Teilaufgabe haben Sie einiges über die Struktur der Daten gelernt. Nun sollen Sie dieses Wissen einsetzen um eine erste Vorhersage auf einem Testdatensatz zu treffen. Im folgenden werden die notwendigen Imports getätigt und das Dataset eingelesen."
   ]
  },
  {
   "cell_type": "markdown",
   "metadata": {},
   "source": [
    "### Imports"
   ]
  },
  {
   "cell_type": "code",
   "execution_count": 312,
   "metadata": {},
   "outputs": [],
   "source": [
    "import numpy as np\n",
    "import csv as csv\n",
    "import matplotlib.pyplot as plt\n",
    "import pandas as pd\n",
    "import itertools\n",
    "%matplotlib inline"
   ]
  },
  {
   "cell_type": "markdown",
   "metadata": {},
   "source": [
    "### Daten einlesen"
   ]
  },
  {
   "cell_type": "code",
   "execution_count": 313,
   "metadata": {},
   "outputs": [],
   "source": [
    "DATA_FILE = '../Data/original_titanic.csv'\n",
    "# TODO : implement\n",
    "df = None\n",
    "df = pd.read_csv(DATA_FILE, header=0)\n"
   ]
  },
  {
   "cell_type": "markdown",
   "metadata": {},
   "source": [
    "### Datenlücken interpolieren\n",
    "\n",
    "Gerne können Sie zum Füllen der Datenlücken auch Ihre Implementierung aus der vorherigen Teilaufgabe einsetzen."
   ]
  },
  {
   "cell_type": "code",
   "execution_count": 314,
   "metadata": {},
   "outputs": [
    {
     "name": "stdout",
     "output_type": "stream",
     "text": [
      "1309\n",
      "1309\n",
      "1046\n"
     ]
    }
   ],
   "source": [
    "def prepareData(df):\n",
    "    #to set a selection of a data frame please dont use the chained [] operator, but the .loc operator\n",
    "    #(see http://pandas.pydata.org/pandas-docs/stable/indexing.html#indexing-view-versus-copy for details)\n",
    "    \n",
    "    #minimal working example to set all null age values to 42 - probably you can do better :-)\n",
    "    df.loc[df.Age.isnull(),'Age'] = None\n",
    "    df.loc[df.Pclass.isnull(),'Pclass'] = None\n",
    "    df.loc[df.Sex.isnull(),\"Sex\"] = None\n",
    "    return df\n",
    "    \n",
    "#df = prepareData(df)\n",
    "print(len(df))\n",
    "df2 = df.copy()\n",
    "df2 = prepareData(df2)\n",
    "df2.dropna(subset = [\"Pclass\"], inplace=True)\n",
    "df2.dropna(subset = [\"Age\"], inplace=True)\n",
    "df2.dropna(subset = [\"Sex\"], inplace=True)\n",
    "print(len(df2))"
   ]
  },
  {
   "cell_type": "markdown",
   "metadata": {},
   "source": [
    "### Datensatz stochastisch verändern\n",
    "\n",
    "Es wird der komplette Datensatz durchmischt. Finden Sie hierfür geeignete Methoden (Python, Numpy, Pandas). Geben Sie die ersten fünf Zeilen des durchmischten Datensatzes aus. Weisen Sie nach, dass lediglich die Reihenfolge der Daten geändert wurde und <b>nicht(!)</b> die Merkmals-Spalten."
   ]
  },
  {
   "cell_type": "markdown",
   "source": [
    "### Lösung mit Sklearn"
   ],
   "metadata": {
    "collapsed": false,
    "pycharm": {
     "name": "#%% md\n"
    }
   }
  },
  {
   "cell_type": "code",
   "execution_count": 315,
   "metadata": {},
   "outputs": [
    {
     "name": "stdout",
     "output_type": "stream",
     "text": [
      "   PassengerId  Survived  Pclass  \\\n",
      "0            1         1       1   \n",
      "1            2         1       1   \n",
      "2            3         0       1   \n",
      "3            4         0       1   \n",
      "4            5         0       1   \n",
      "\n",
      "                                              Name     Sex    Age  SibSp  \\\n",
      "0                    Allen, Miss. Elisabeth Walton  female  29.00      0   \n",
      "1                   Allison, Master. Hudson Trevor    male   0.92      1   \n",
      "2                     Allison, Miss. Helen Loraine  female   2.00      1   \n",
      "3             Allison, Mr. Hudson Joshua Creighton    male  30.00      1   \n",
      "4  Allison, Mrs. Hudson J C (Bessie Waldo Daniels)  female  25.00      1   \n",
      "\n",
      "   Parch  Ticket      Fare    Cabin Embarked                        Home-Dest  \n",
      "0      0   24160  211.3375       B5        S                     St Louis, MO  \n",
      "1      2  113781  151.5500  C22 C26        S  Montreal, PQ / Chesterville, ON  \n",
      "2      2  113781  151.5500  C22 C26        S  Montreal, PQ / Chesterville, ON  \n",
      "3      2  113781  151.5500  C22 C26        S  Montreal, PQ / Chesterville, ON  \n",
      "4      2  113781  151.5500  C22 C26        S  Montreal, PQ / Chesterville, ON  \n",
      "      PassengerId  Survived  Pclass                              Name     Sex  \\\n",
      "334           335         0       2     Banfield, Mr. Frederick James    male   \n",
      "1291         1292         0       3  Willer, Mr. Aaron (\"Abi Weller\")    male   \n",
      "1148         1149         0       3              Rintamaki, Mr. Matti    male   \n",
      "1151         1152         0       3        Risien, Mrs. Samuel (Emma)  female   \n",
      "618           619         0       3          Allen, Mr. William Henry    male   \n",
      "\n",
      "       Age  SibSp  Parch             Ticket     Fare Cabin Embarked  \\\n",
      "334   28.0      0      0   C.A./SOTON 34068  10.5000   NaN        S   \n",
      "1291   NaN      0      0               3410   8.7125   NaN        S   \n",
      "1148  35.0      0      0  STON/O 2. 3101273   7.1250   NaN        S   \n",
      "1151   NaN      0      0             364498  14.5000   NaN        S   \n",
      "618   35.0      0      0             373450   8.0500   NaN        S   \n",
      "\n",
      "                                              Home-Dest  \n",
      "334                     Plymouth, Dorset / Houghton, MI  \n",
      "1291                                                NaN  \n",
      "1148                                                NaN  \n",
      "1151                                                NaN  \n",
      "618   Lower Clapton, Middlesex or Erdington, Birmingham  \n"
     ]
    }
   ],
   "source": [
    "from sklearn.utils import shuffle\n",
    "\n",
    "print(df[:5])\n",
    "df_shuffled = shuffle(df)\n",
    "print(df_shuffled[:5])"
   ]
  },
  {
   "cell_type": "markdown",
   "source": [
    "### Umsetzung mit Pandas"
   ],
   "metadata": {
    "collapsed": false,
    "pycharm": {
     "name": "#%% md\n"
    }
   }
  },
  {
   "cell_type": "code",
   "execution_count": 316,
   "outputs": [
    {
     "name": "stdout",
     "output_type": "stream",
     "text": [
      "   PassengerId  Survived  Pclass  \\\n",
      "0            1         1       1   \n",
      "1            2         1       1   \n",
      "2            3         0       1   \n",
      "3            4         0       1   \n",
      "4            5         0       1   \n",
      "\n",
      "                                              Name     Sex    Age  SibSp  \\\n",
      "0                    Allen, Miss. Elisabeth Walton  female  29.00      0   \n",
      "1                   Allison, Master. Hudson Trevor    male   0.92      1   \n",
      "2                     Allison, Miss. Helen Loraine  female   2.00      1   \n",
      "3             Allison, Mr. Hudson Joshua Creighton    male  30.00      1   \n",
      "4  Allison, Mrs. Hudson J C (Bessie Waldo Daniels)  female  25.00      1   \n",
      "\n",
      "   Parch  Ticket      Fare    Cabin Embarked                        Home-Dest  \n",
      "0      0   24160  211.3375       B5        S                     St Louis, MO  \n",
      "1      2  113781  151.5500  C22 C26        S  Montreal, PQ / Chesterville, ON  \n",
      "2      2  113781  151.5500  C22 C26        S  Montreal, PQ / Chesterville, ON  \n",
      "3      2  113781  151.5500  C22 C26        S  Montreal, PQ / Chesterville, ON  \n",
      "4      2  113781  151.5500  C22 C26        S  Montreal, PQ / Chesterville, ON  \n",
      "   PassengerId  Survived  Pclass  \\\n",
      "0          831         0       3   \n",
      "1          168         1       1   \n",
      "2          923         1       3   \n",
      "3          326         0       2   \n",
      "4          183         1       1   \n",
      "\n",
      "                                              Name     Sex   Age  SibSp  \\\n",
      "0                      Goodwin, Mr. Charles Edward    male  14.0      5   \n",
      "1  Hoyt, Mrs. Frederick Maxfield (Jane Anne Forby)  female  35.0      1   \n",
      "2         Kelly, Miss. Anna Katherine \"Annie Kate\"  female   NaN      0   \n",
      "3                   Aldworth, Mr. Charles Augustus    male  30.0      0   \n",
      "4                              LeRoy, Miss. Bertha  female  30.0      0   \n",
      "\n",
      "   Parch    Ticket     Fare Cabin Embarked  \\\n",
      "0      2   CA 2144   46.900   NaN        S   \n",
      "1      0     19943   90.000   C93        S   \n",
      "2      0      9234    7.750   NaN        Q   \n",
      "3      0    248744   13.000   NaN        S   \n",
      "4      0  PC 17761  106.425   NaN        C   \n",
      "\n",
      "                              Home-Dest  \n",
      "0  Wiltshire, England Niagara Falls, NY  \n",
      "1           New York, NY /  Stamford CT  \n",
      "2                                   NaN  \n",
      "3                    Bryn Mawr, PA, USA  \n",
      "4                                   NaN  \n"
     ]
    }
   ],
   "source": [
    "print(df[:5])\n",
    "df_shuffled2 = df.sample(frac=1).reset_index(drop=True)\n",
    "print(df_shuffled2[:5])"
   ],
   "metadata": {
    "collapsed": false,
    "pycharm": {
     "name": "#%%\n"
    }
   }
  },
  {
   "cell_type": "markdown",
   "metadata": {},
   "source": [
    "### Aufteilung in Trainings- und Testdatensatz\n",
    "\n",
    "Teilen Sie den stochastisch veränderten Datensatz in Trainings- und Testdatensatz mit der Verteilung von 80% (Train) zu 20% (Test) auf. Geben Sie die Länge der Datensätze aus."
   ]
  },
  {
   "cell_type": "code",
   "execution_count": 317,
   "metadata": {},
   "outputs": [
    {
     "name": "stdout",
     "output_type": "stream",
     "text": [
      "981\n",
      "328\n"
     ]
    }
   ],
   "source": [
    "from sklearn.model_selection import train_test_split\n",
    "\n",
    "df_train, df_test  = train_test_split(df_shuffled)\n",
    "print(len(df_train))\n",
    "print(len(df_test))"
   ]
  },
  {
   "cell_type": "markdown",
   "metadata": {},
   "source": [
    "### Performance von Machine Learing Algorithmen\n",
    "\n",
    "Die Performance von Machine Learing Algorithmen kann unter anderem anhand der Korreklassifizierungsrate (engl. Accuracy) ermittelt werden. Diese wird über die Verwechslungsmatrix (engl. Confusion matrix) (siehe Abbildung) wie folgt definiert: <br>\n",
    "\n",
    "TP = True Positive <br>\n",
    "TN = True Negative <br>\n",
    "FP = False Positive <br>\n",
    "FN = False Negative <br>\n",
    "ACC = Accuracy <br>\n",
    "\n",
    "$ACC = \\frac{(TP + TN)} {(TP+TN+FP+FN)}$\n",
    "\n",
    "<img src=\"../Figures/Confusion-Matrix.png\" alt=\"drawing\" style=\"width:300px;\"/>\n",
    "\n"
   ]
  },
  {
   "cell_type": "markdown",
   "metadata": {},
   "source": [
    "### Implementierung des Algorithmus"
   ]
  },
  {
   "cell_type": "markdown",
   "metadata": {},
   "source": [
    "Schreiben Sie eine Funktion um die Klasse *Survived*, mit ihren beiden Ausprägungen 0 und 1, anhand von einem oder mehreren Merkmalen vorherzusagen. Verwenden Sie dazu ein einfaches Modell in welchem Sie ihr bisheriges Wissen über den Datensatz einsetzen."
   ]
  },
  {
   "cell_type": "code",
   "execution_count": 318,
   "metadata": {},
   "outputs": [],
   "source": [
    "def predict(df):\n",
    "    \"\"\"\n",
    "    Predicts out of a Single Sample if Alive\n",
    "    :return True if Alive\n",
    "    :return False if Dead\n",
    "    \"\"\"\n",
    "    if df[\"Pclass\"] == 3:\n",
    "        if df[\"Sex\"] == \"female\":\n",
    "            if df[\"Age\"] < 20:\n",
    "                return True\n",
    "            else:\n",
    "                return False\n",
    "        else:\n",
    "                return False\n",
    "    else:\n",
    "        return False"
   ]
  },
  {
   "cell_type": "markdown",
   "metadata": {},
   "source": [
    "### Testen des Algorithmus\n"
   ]
  },
  {
   "cell_type": "code",
   "execution_count": 319,
   "outputs": [
    {
     "name": "stdout",
     "output_type": "stream",
     "text": [
      "Will Bowerman, Miss. Elsie Edith Survived? False\n",
      "Will Myhrman, Mr. Pehr Fabian Oliver Malkolm Survived? False\n",
      "Will Baclini, Miss. Marie Catherine Survived? True\n"
     ]
    }
   ],
   "source": [
    "persons = df2.sample(n= 3, random_state=1)\n",
    "for index, row in persons.iterrows():\n",
    "    print(\"Will\", row[\"Name\"], \"Survived?\", predict(row) )\n"
   ],
   "metadata": {
    "collapsed": false,
    "pycharm": {
     "name": "#%%\n"
    }
   }
  },
  {
   "cell_type": "markdown",
   "metadata": {},
   "source": [
    "Testen Sie die predict() Methode mit den Datenobjekten aus dem Testdatensatz. Ermitteln sie hierzu die Korreklassifizierungsrate."
   ]
  },
  {
   "cell_type": "markdown",
   "source": [
    "### sklearn\n"
   ],
   "metadata": {
    "collapsed": false,
    "pycharm": {
     "name": "#%% md\n"
    }
   }
  },
  {
   "cell_type": "code",
   "execution_count": 320,
   "outputs": [
    {
     "name": "stdout",
     "output_type": "stream",
     "text": [
      "accuracy_score 0.6218487394957983\n"
     ]
    }
   ],
   "source": [
    "from sklearn.metrics import accuracy_score\n",
    "y_pred = []\n",
    "y_true = []\n",
    "n = 10  ### how many samples\n",
    "\n",
    "samples = df2.sample(n=n, random_state=1)\n",
    "\n",
    "for index, row in df.iterrows():\n",
    "    if predict(row):\n",
    "         y_pred.append(1)\n",
    "    else:\n",
    "        y_pred.append(0)\n",
    "    if row[\"Survived\"]:\n",
    "        y_true.append(1)\n",
    "    else:\n",
    "        y_true.append(0)\n",
    "print(\"accuracy_score\",accuracy_score(y_true, y_pred))"
   ],
   "metadata": {
    "collapsed": false,
    "pycharm": {
     "name": "#%%\n"
    }
   }
  }
 ],
 "metadata": {
  "interpreter": {
   "hash": "bbd5b416a8e5619b29095f47e25a760d33ae8dd6ce65b6de92bb99b22668b00d"
  },
  "kernelspec": {
   "name": "pycharm-326914a4",
   "language": "python",
   "display_name": "PyCharm (hska_ml_lab_master_exercises)"
  },
  "language_info": {
   "codemirror_mode": {
    "name": "ipython",
    "version": 3
   },
   "file_extension": ".py",
   "mimetype": "text/x-python",
   "name": "python",
   "nbconvert_exporter": "python",
   "pygments_lexer": "ipython3",
   "version": "3.8.0"
  }
 },
 "nbformat": 4,
 "nbformat_minor": 2
}