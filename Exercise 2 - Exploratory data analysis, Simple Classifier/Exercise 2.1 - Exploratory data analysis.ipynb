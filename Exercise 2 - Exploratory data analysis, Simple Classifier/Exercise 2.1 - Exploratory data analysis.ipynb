{
 "cells": [
  {
   "cell_type": "markdown",
   "metadata": {},
   "source": [
    "# Einführung Titanic-Datensatz"
   ]
  },
  {
   "cell_type": "markdown",
   "metadata": {},
   "source": [
    "Das Ziel der heutigen Vorlesung ist den Titanic-Datensatz von kaggle.com zu untersuchen.\n",
    "\n",
    "Eine Beschreibung des Titanic-Datensatz ist hier zu finden:\n",
    "https://www.kaggle.com/c/titanic\n",
    "***\n",
    "```\n",
    "The sinking of the RMS Titanic is one of the most infamous shipwrecks in history.  On April 15, 1912, during her maiden voyage, the Titanic sank after colliding with an iceberg, killing 1502 out of 2224 passengers and crew. This sensational tragedy shocked the international community and led to better safety regulations for ships.\n",
    "\n",
    "One of the reasons that the shipwreck led to such loss of life was that there were not enough lifeboats for the passengers and crew. Although there was some element of luck involved in surviving the sinking, some groups of people were more likely to survive than others, such as women, children, and the upper-class.\n",
    "\n",
    "In this challenge, we ask you to complete the analysis of what sorts of people were likely to survive. In particular, we ask you to apply the tools of machine learning to predict which passengers survived the tragedy.\n",
    "\n",
    "\n",
    "VARIABLE DESCRIPTIONS:\n",
    "survived        Survival\n",
    "                (0 = No; 1 = Yes)\n",
    "pclass          Passenger Class\n",
    "                (1 = 1st; 2 = 2nd; 3 = 3rd)\n",
    "name            Name\n",
    "sex             Sex\n",
    "age             Age\n",
    "sibsp           Number of Siblings/Spouses Aboard\n",
    "parch           Number of Parents/Children Aboard\n",
    "ticket          Ticket Number\n",
    "fare            Passenger Fare\n",
    "cabin           Cabin\n",
    "embarked        Port of Embarkation\n",
    "                (C = Cherbourg; Q = Queenstown; S = Southampton)\n",
    "\n",
    "SPECIAL NOTES:\n",
    "Pclass is a proxy for socio-economic status (SES)\n",
    " 1st ~ Upper; 2nd ~ Middle; 3rd ~ Lower\n",
    "\n",
    "Age is in Years; Fractional if Age less than One (1)\n",
    " If the Age is Estimated, it is in the form xx.5\n",
    "\n",
    "With respect to the family relation variables (i.e. sibsp and parch)\n",
    "some relations were ignored.  The following are the definitions used\n",
    "for sibsp and parch.\n",
    "\n",
    "Sibling:  Brother, Sister, Stepbrother, or Stepsister of Passenger Aboard Titanic\n",
    "Spouse:   Husband or Wife of Passenger Aboard Titanic (Mistresses and Fiances Ignored)\n",
    "Parent:   Mother or Father of Passenger Aboard Titanic\n",
    "Child:    Son, Daughter, Stepson, or Stepdaughter of Passenger Aboard Titanic\n",
    "\n",
    "Other family relatives excluded from this study include cousins,\n",
    "nephews/nieces, aunts/uncles, and in-laws.  Some children travelled\n",
    "only with a nanny, therefore parch=0 for them.  As well, some\n",
    "travelled with very close friends or neighbors in a village, however,\n",
    "the definitions do not support such relations.\n",
    "```\n",
    "***\n",
    "\n",
    "\n",
    "Im Rahmen der Aufgaben werden folgende bereits bekannte Frameworks verwendet:\n",
    "- numPy:   Numerik-Framework, \"Brücke\" zu Fortran / C (http://www.numpy.org/)\n",
    "- pandas:  Datenstrukturen und zugehörige Operationen (http://pandas.pydata.org/)\n",
    "- pyplot:  prozedurales Interface für Matplotlib          (http://matplotlib.org/users/pyplot_tutorial.html)\n",
    "\n",
    "Im Folgenden werden die für diese Aufgabe benötigten Imports getätigt, sowie den Datensatz als *Pandas Dataframe* eingelesen:"
   ]
  },
  {
   "cell_type": "code",
   "execution_count": 1777,
   "metadata": {},
   "outputs": [],
   "source": [
    "import numpy as np\n",
    "import csv as csv\n",
    "import matplotlib.pyplot as plt\n",
    "import pandas as pd\n",
    "import itertools\n",
    "import seaborn as sns\n",
    "\n",
    "%matplotlib inline\n",
    "\n",
    "DATA_FILE = '../Data/original_titanic.csv'\n",
    "df = pd.read_csv(DATA_FILE, header=0)"
   ]
  },
  {
   "cell_type": "markdown",
   "metadata": {},
   "source": [
    "## 1.) Datenanalyse mit Pandas \n",
    "Das DataFrame Object aus der panda Bibliothek ist eine mächtige Datenstruktur mit vielen praktischen Funktionen um mit großen Datensätzen umzugehen. Um einen schnellen Einstieg in pandas zu erhalten empfehle ich Ihnen ein Blick in das 10 Minutes to pandas Tutorial zu werfen: http://pandas.pydata.org/pandas-docs/stable/10min.html. Umfangreiche Informationen finden Sie in der pandas Dokumentation (http://pandas.pydata.org/pandas-docs/stable/index.html). Häufig ist auch die ipython Autovervollständigung (TAB) ein gutes Hilfsmittel um entsprechende Methoden das DataFrames zu finden.\n",
    "\n",
    "Im Folgenden finden Sie einige einfache, selbsterklärende Beispiele für den Umgang mit dem Pandas DataFrame. Führen Sie die Beispiele aus (z.B. in dem Sie bei fokussierter Zelle Shift+ENTER drücken) und schauen Sie sich die Ergebnisse an. \n",
    " "
   ]
  },
  {
   "cell_type": "code",
   "execution_count": 1778,
   "metadata": {
    "scrolled": false
   },
   "outputs": [
    {
     "name": "stdout",
     "output_type": "stream",
     "text": [
      "<class 'pandas.core.frame.DataFrame'>\n",
      "RangeIndex: 1309 entries, 0 to 1308\n",
      "Data columns (total 13 columns):\n",
      " #   Column       Non-Null Count  Dtype  \n",
      "---  ------       --------------  -----  \n",
      " 0   PassengerId  1309 non-null   int64  \n",
      " 1   Survived     1309 non-null   int64  \n",
      " 2   Pclass       1309 non-null   int64  \n",
      " 3   Name         1309 non-null   object \n",
      " 4   Sex          1309 non-null   object \n",
      " 5   Age          1046 non-null   float64\n",
      " 6   SibSp        1309 non-null   int64  \n",
      " 7   Parch        1309 non-null   int64  \n",
      " 8   Ticket       1309 non-null   object \n",
      " 9   Fare         1308 non-null   float64\n",
      " 10  Cabin        295 non-null    object \n",
      " 11  Embarked     1307 non-null   object \n",
      " 12  Home-Dest    745 non-null    object \n",
      "dtypes: float64(2), int64(5), object(6)\n",
      "memory usage: 133.1+ KB\n"
     ]
    }
   ],
   "source": [
    "df.info()"
   ]
  },
  {
   "cell_type": "code",
   "execution_count": 1779,
   "metadata": {
    "scrolled": true
   },
   "outputs": [
    {
     "data": {
      "text/plain": "       PassengerId     Survived       Pclass          Age        SibSp  \\\ncount  1309.000000  1309.000000  1309.000000  1046.000000  1309.000000   \nmean    655.000000     0.381971     2.294882    29.881138     0.498854   \nstd     378.020061     0.486055     0.837836    14.413493     1.041658   \nmin       1.000000     0.000000     1.000000     0.170000     0.000000   \n25%     328.000000     0.000000     2.000000    21.000000     0.000000   \n50%     655.000000     0.000000     3.000000    28.000000     0.000000   \n75%     982.000000     1.000000     3.000000    39.000000     1.000000   \nmax    1309.000000     1.000000     3.000000    80.000000     8.000000   \n\n             Parch         Fare  \ncount  1309.000000  1308.000000  \nmean      0.385027    33.295479  \nstd       0.865560    51.758668  \nmin       0.000000     0.000000  \n25%       0.000000     7.895800  \n50%       0.000000    14.454200  \n75%       0.000000    31.275000  \nmax       9.000000   512.329200  ",
      "text/html": "<div>\n<style scoped>\n    .dataframe tbody tr th:only-of-type {\n        vertical-align: middle;\n    }\n\n    .dataframe tbody tr th {\n        vertical-align: top;\n    }\n\n    .dataframe thead th {\n        text-align: right;\n    }\n</style>\n<table border=\"1\" class=\"dataframe\">\n  <thead>\n    <tr style=\"text-align: right;\">\n      <th></th>\n      <th>PassengerId</th>\n      <th>Survived</th>\n      <th>Pclass</th>\n      <th>Age</th>\n      <th>SibSp</th>\n      <th>Parch</th>\n      <th>Fare</th>\n    </tr>\n  </thead>\n  <tbody>\n    <tr>\n      <th>count</th>\n      <td>1309.000000</td>\n      <td>1309.000000</td>\n      <td>1309.000000</td>\n      <td>1046.000000</td>\n      <td>1309.000000</td>\n      <td>1309.000000</td>\n      <td>1308.000000</td>\n    </tr>\n    <tr>\n      <th>mean</th>\n      <td>655.000000</td>\n      <td>0.381971</td>\n      <td>2.294882</td>\n      <td>29.881138</td>\n      <td>0.498854</td>\n      <td>0.385027</td>\n      <td>33.295479</td>\n    </tr>\n    <tr>\n      <th>std</th>\n      <td>378.020061</td>\n      <td>0.486055</td>\n      <td>0.837836</td>\n      <td>14.413493</td>\n      <td>1.041658</td>\n      <td>0.865560</td>\n      <td>51.758668</td>\n    </tr>\n    <tr>\n      <th>min</th>\n      <td>1.000000</td>\n      <td>0.000000</td>\n      <td>1.000000</td>\n      <td>0.170000</td>\n      <td>0.000000</td>\n      <td>0.000000</td>\n      <td>0.000000</td>\n    </tr>\n    <tr>\n      <th>25%</th>\n      <td>328.000000</td>\n      <td>0.000000</td>\n      <td>2.000000</td>\n      <td>21.000000</td>\n      <td>0.000000</td>\n      <td>0.000000</td>\n      <td>7.895800</td>\n    </tr>\n    <tr>\n      <th>50%</th>\n      <td>655.000000</td>\n      <td>0.000000</td>\n      <td>3.000000</td>\n      <td>28.000000</td>\n      <td>0.000000</td>\n      <td>0.000000</td>\n      <td>14.454200</td>\n    </tr>\n    <tr>\n      <th>75%</th>\n      <td>982.000000</td>\n      <td>1.000000</td>\n      <td>3.000000</td>\n      <td>39.000000</td>\n      <td>1.000000</td>\n      <td>0.000000</td>\n      <td>31.275000</td>\n    </tr>\n    <tr>\n      <th>max</th>\n      <td>1309.000000</td>\n      <td>1.000000</td>\n      <td>3.000000</td>\n      <td>80.000000</td>\n      <td>8.000000</td>\n      <td>9.000000</td>\n      <td>512.329200</td>\n    </tr>\n  </tbody>\n</table>\n</div>"
     },
     "execution_count": 1779,
     "metadata": {},
     "output_type": "execute_result"
    }
   ],
   "source": [
    "df.describe()"
   ]
  },
  {
   "cell_type": "markdown",
   "metadata": {},
   "source": [
    "## header\n"
   ]
  },
  {
   "cell_type": "code",
   "execution_count": 1780,
   "metadata": {},
   "outputs": [
    {
     "data": {
      "text/plain": "0    29.00\n1     0.92\n2     2.00\n3    30.00\n4    25.00\nName: Age, dtype: float64"
     },
     "execution_count": 1780,
     "metadata": {},
     "output_type": "execute_result"
    }
   ],
   "source": [
    "df.Age[0:5]"
   ]
  },
  {
   "cell_type": "code",
   "execution_count": 1781,
   "metadata": {},
   "outputs": [
    {
     "name": "stdout",
     "output_type": "stream",
     "text": [
      "     Age     Sex\n",
      "0  29.00  female\n",
      "1   0.92    male\n",
      "2   2.00  female\n"
     ]
    }
   ],
   "source": [
    "print(df[['Age','Sex']][0:3])"
   ]
  },
  {
   "cell_type": "code",
   "execution_count": 1782,
   "metadata": {
    "scrolled": true
   },
   "outputs": [
    {
     "data": {
      "text/plain": "1      0.92\n2      2.00\n3     30.00\n4     25.00\n5     48.00\n6     63.00\n7     39.00\n8     53.00\n9     71.00\n10    47.00\nName: Age, dtype: float64"
     },
     "execution_count": 1782,
     "metadata": {},
     "output_type": "execute_result"
    }
   ],
   "source": [
    "df.loc[1:10,'Age']"
   ]
  },
  {
   "cell_type": "code",
   "execution_count": 1783,
   "metadata": {},
   "outputs": [
    {
     "name": "stdout",
     "output_type": "stream",
     "text": [
      "     Age     Sex\n",
      "0   29.0  female\n",
      "4   25.0  female\n",
      "6   63.0  female\n",
      "8   53.0  female\n",
      "12  24.0  female\n"
     ]
    }
   ],
   "source": [
    "x = df[['Age','Sex']][(df.Sex == 'female') & (df.Age > 20)][0:5]\n",
    "print(x)"
   ]
  },
  {
   "cell_type": "code",
   "execution_count": 1784,
   "metadata": {},
   "outputs": [
    {
     "name": "stdout",
     "output_type": "stream",
     "text": [
      "<class 'pandas.core.frame.DataFrame'>\n",
      "<class 'numpy.ndarray'>\n",
      "age 29, sex female\n",
      "age 25, sex female\n",
      "age 63, sex female\n",
      "age 53, sex female\n",
      "age 24, sex female\n"
     ]
    }
   ],
   "source": [
    "print(type (x))\n",
    "print(type (x.values))\n",
    "for i,j in x.values:\n",
    "    print(\"age %d, sex %s\" % (i,j))"
   ]
  },
  {
   "cell_type": "code",
   "execution_count": 1785,
   "metadata": {},
   "outputs": [
    {
     "data": {
      "text/plain": "Sex\nfemale    28.687088\nmale      30.585228\nName: Age, dtype: float64"
     },
     "execution_count": 1785,
     "metadata": {},
     "output_type": "execute_result"
    }
   ],
   "source": [
    "df.Age.groupby(df.Sex).mean()"
   ]
  },
  {
   "cell_type": "code",
   "execution_count": 1785,
   "metadata": {},
   "outputs": [],
   "source": []
  },
  {
   "cell_type": "code",
   "execution_count": 1786,
   "metadata": {},
   "outputs": [
    {
     "data": {
      "text/plain": "male      843\nfemale    466\nName: Sex, dtype: int64"
     },
     "execution_count": 1786,
     "metadata": {},
     "output_type": "execute_result"
    }
   ],
   "source": [
    "df.Sex.value_counts()"
   ]
  },
  {
   "cell_type": "markdown",
   "metadata": {},
   "source": [
    "Um einen ersten Eindruck von den vorliegenden Daten zu beokmmen sowie die Möglichkeiten des DataFrame Objektes kennen zu lernen untersuchen Sie bitte die folgenden Fragestellungen: "
   ]
  },
  {
   "cell_type": "markdown",
   "metadata": {},
   "source": [
    "1.) Wie Umfangreich ist der Titanic Datensatz? Wieviel Merkmale (Spalten) bzw. Objekte (Datenreihen) liegen vor?"
   ]
  },
  {
   "cell_type": "code",
   "execution_count": 1787,
   "metadata": {
    "scrolled": true
   },
   "outputs": [
    {
     "name": "stdout",
     "output_type": "stream",
     "text": [
      "<class 'pandas.core.frame.DataFrame'>\n",
      "RangeIndex: 1309 entries, 0 to 1308\n",
      "Data columns (total 13 columns):\n",
      " #   Column       Non-Null Count  Dtype  \n",
      "---  ------       --------------  -----  \n",
      " 0   PassengerId  1309 non-null   int64  \n",
      " 1   Survived     1309 non-null   int64  \n",
      " 2   Pclass       1309 non-null   int64  \n",
      " 3   Name         1309 non-null   object \n",
      " 4   Sex          1309 non-null   object \n",
      " 5   Age          1046 non-null   float64\n",
      " 6   SibSp        1309 non-null   int64  \n",
      " 7   Parch        1309 non-null   int64  \n",
      " 8   Ticket       1309 non-null   object \n",
      " 9   Fare         1308 non-null   float64\n",
      " 10  Cabin        295 non-null    object \n",
      " 11  Embarked     1307 non-null   object \n",
      " 12  Home-Dest    745 non-null    object \n",
      "dtypes: float64(2), int64(5), object(6)\n",
      "memory usage: 133.1+ KB\n"
     ]
    }
   ],
   "source": [
    "df.info()\n",
    "# 13 colums\n",
    "# 1309 entries\n",
    "# over all 13 * 1309"
   ]
  },
  {
   "cell_type": "markdown",
   "metadata": {},
   "source": [
    "2.) Wie sehen die ersten zehn Objekte aus? Was fällt Ihnen auf? Verstehen Sie die Bedeutung der Merkmale?\n"
   ]
  },
  {
   "cell_type": "code",
   "execution_count": 1788,
   "metadata": {},
   "outputs": [
    {
     "name": "stdout",
     "output_type": "stream",
     "text": [
      "PassengerId 0     1\n",
      "1     2\n",
      "2     3\n",
      "3     4\n",
      "4     5\n",
      "5     6\n",
      "6     7\n",
      "7     8\n",
      "8     9\n",
      "9    10\n",
      "Name: PassengerId, dtype: int64\n",
      "Survived 0    1\n",
      "1    1\n",
      "2    0\n",
      "3    0\n",
      "4    0\n",
      "5    1\n",
      "6    1\n",
      "7    0\n",
      "8    1\n",
      "9    0\n",
      "Name: Survived, dtype: int64\n",
      "Pclass 0    1\n",
      "1    1\n",
      "2    1\n",
      "3    1\n",
      "4    1\n",
      "5    1\n",
      "6    1\n",
      "7    1\n",
      "8    1\n",
      "9    1\n",
      "Name: Pclass, dtype: int64\n",
      "Name 0                      Allen, Miss. Elisabeth Walton\n",
      "1                     Allison, Master. Hudson Trevor\n",
      "2                       Allison, Miss. Helen Loraine\n",
      "3               Allison, Mr. Hudson Joshua Creighton\n",
      "4    Allison, Mrs. Hudson J C (Bessie Waldo Daniels)\n",
      "5                                Anderson, Mr. Harry\n",
      "6                  Andrews, Miss. Kornelia Theodosia\n",
      "7                             Andrews, Mr. Thomas Jr\n",
      "8      Appleton, Mrs. Edward Dale (Charlotte Lamson)\n",
      "9                            Artagaveytia, Mr. Ramon\n",
      "Name: Name, dtype: object\n",
      "Sex 0    female\n",
      "1      male\n",
      "2    female\n",
      "3      male\n",
      "4    female\n",
      "5      male\n",
      "6    female\n",
      "7      male\n",
      "8    female\n",
      "9      male\n",
      "Name: Sex, dtype: object\n",
      "Age 0    29.00\n",
      "1     0.92\n",
      "2     2.00\n",
      "3    30.00\n",
      "4    25.00\n",
      "5    48.00\n",
      "6    63.00\n",
      "7    39.00\n",
      "8    53.00\n",
      "9    71.00\n",
      "Name: Age, dtype: float64\n",
      "SibSp 0    0\n",
      "1    1\n",
      "2    1\n",
      "3    1\n",
      "4    1\n",
      "5    0\n",
      "6    1\n",
      "7    0\n",
      "8    2\n",
      "9    0\n",
      "Name: SibSp, dtype: int64\n",
      "Parch 0    0\n",
      "1    2\n",
      "2    2\n",
      "3    2\n",
      "4    2\n",
      "5    0\n",
      "6    0\n",
      "7    0\n",
      "8    0\n",
      "9    0\n",
      "Name: Parch, dtype: int64\n",
      "Ticket 0       24160\n",
      "1      113781\n",
      "2      113781\n",
      "3      113781\n",
      "4      113781\n",
      "5       19952\n",
      "6       13502\n",
      "7      112050\n",
      "8       11769\n",
      "9    PC 17609\n",
      "Name: Ticket, dtype: object\n",
      "Fare 0    211.3375\n",
      "1    151.5500\n",
      "2    151.5500\n",
      "3    151.5500\n",
      "4    151.5500\n",
      "5     26.5500\n",
      "6     77.9583\n",
      "7      0.0000\n",
      "8     51.4792\n",
      "9     49.5042\n",
      "Name: Fare, dtype: float64\n",
      "Cabin 0         B5\n",
      "1    C22 C26\n",
      "2    C22 C26\n",
      "3    C22 C26\n",
      "4    C22 C26\n",
      "5        E12\n",
      "6         D7\n",
      "7        A36\n",
      "8       C101\n",
      "9        NaN\n",
      "Name: Cabin, dtype: object\n",
      "Embarked 0    S\n",
      "1    S\n",
      "2    S\n",
      "3    S\n",
      "4    S\n",
      "5    S\n",
      "6    S\n",
      "7    S\n",
      "8    S\n",
      "9    C\n",
      "Name: Embarked, dtype: object\n",
      "Home-Dest 0                       St Louis, MO\n",
      "1    Montreal, PQ / Chesterville, ON\n",
      "2    Montreal, PQ / Chesterville, ON\n",
      "3    Montreal, PQ / Chesterville, ON\n",
      "4    Montreal, PQ / Chesterville, ON\n",
      "5                       New York, NY\n",
      "6                         Hudson, NY\n",
      "7                        Belfast, NI\n",
      "8                Bayside, Queens, NY\n",
      "9                Montevideo, Uruguay\n",
      "Name: Home-Dest, dtype: object\n"
     ]
    },
    {
     "data": {
      "text/plain": "       PassengerId     Survived       Pclass          Age        SibSp  \\\ncount  1309.000000  1309.000000  1309.000000  1046.000000  1309.000000   \nmean    655.000000     0.381971     2.294882    29.881138     0.498854   \nstd     378.020061     0.486055     0.837836    14.413493     1.041658   \nmin       1.000000     0.000000     1.000000     0.170000     0.000000   \n25%     328.000000     0.000000     2.000000    21.000000     0.000000   \n50%     655.000000     0.000000     3.000000    28.000000     0.000000   \n75%     982.000000     1.000000     3.000000    39.000000     1.000000   \nmax    1309.000000     1.000000     3.000000    80.000000     8.000000   \n\n             Parch         Fare  \ncount  1309.000000  1308.000000  \nmean      0.385027    33.295479  \nstd       0.865560    51.758668  \nmin       0.000000     0.000000  \n25%       0.000000     7.895800  \n50%       0.000000    14.454200  \n75%       0.000000    31.275000  \nmax       9.000000   512.329200  ",
      "text/html": "<div>\n<style scoped>\n    .dataframe tbody tr th:only-of-type {\n        vertical-align: middle;\n    }\n\n    .dataframe tbody tr th {\n        vertical-align: top;\n    }\n\n    .dataframe thead th {\n        text-align: right;\n    }\n</style>\n<table border=\"1\" class=\"dataframe\">\n  <thead>\n    <tr style=\"text-align: right;\">\n      <th></th>\n      <th>PassengerId</th>\n      <th>Survived</th>\n      <th>Pclass</th>\n      <th>Age</th>\n      <th>SibSp</th>\n      <th>Parch</th>\n      <th>Fare</th>\n    </tr>\n  </thead>\n  <tbody>\n    <tr>\n      <th>count</th>\n      <td>1309.000000</td>\n      <td>1309.000000</td>\n      <td>1309.000000</td>\n      <td>1046.000000</td>\n      <td>1309.000000</td>\n      <td>1309.000000</td>\n      <td>1308.000000</td>\n    </tr>\n    <tr>\n      <th>mean</th>\n      <td>655.000000</td>\n      <td>0.381971</td>\n      <td>2.294882</td>\n      <td>29.881138</td>\n      <td>0.498854</td>\n      <td>0.385027</td>\n      <td>33.295479</td>\n    </tr>\n    <tr>\n      <th>std</th>\n      <td>378.020061</td>\n      <td>0.486055</td>\n      <td>0.837836</td>\n      <td>14.413493</td>\n      <td>1.041658</td>\n      <td>0.865560</td>\n      <td>51.758668</td>\n    </tr>\n    <tr>\n      <th>min</th>\n      <td>1.000000</td>\n      <td>0.000000</td>\n      <td>1.000000</td>\n      <td>0.170000</td>\n      <td>0.000000</td>\n      <td>0.000000</td>\n      <td>0.000000</td>\n    </tr>\n    <tr>\n      <th>25%</th>\n      <td>328.000000</td>\n      <td>0.000000</td>\n      <td>2.000000</td>\n      <td>21.000000</td>\n      <td>0.000000</td>\n      <td>0.000000</td>\n      <td>7.895800</td>\n    </tr>\n    <tr>\n      <th>50%</th>\n      <td>655.000000</td>\n      <td>0.000000</td>\n      <td>3.000000</td>\n      <td>28.000000</td>\n      <td>0.000000</td>\n      <td>0.000000</td>\n      <td>14.454200</td>\n    </tr>\n    <tr>\n      <th>75%</th>\n      <td>982.000000</td>\n      <td>1.000000</td>\n      <td>3.000000</td>\n      <td>39.000000</td>\n      <td>1.000000</td>\n      <td>0.000000</td>\n      <td>31.275000</td>\n    </tr>\n    <tr>\n      <th>max</th>\n      <td>1309.000000</td>\n      <td>1.000000</td>\n      <td>3.000000</td>\n      <td>80.000000</td>\n      <td>8.000000</td>\n      <td>9.000000</td>\n      <td>512.329200</td>\n    </tr>\n  </tbody>\n</table>\n</div>"
     },
     "execution_count": 1788,
     "metadata": {},
     "output_type": "execute_result"
    }
   ],
   "source": [
    "for key , value in df[0:10].iteritems():\n",
    "    print(key, value)\n",
    "df.head(10)\n",
    "df.describe()\n",
    "# Unterschiedlich viele Einträge 1309 and some 1046\n",
    "# unterschiedliche Datentypen\n",
    "\n"
   ]
  },
  {
   "cell_type": "markdown",
   "metadata": {},
   "source": [
    "3.) Welche Datentypen haben die einzelnen Merkmale?"
   ]
  },
  {
   "cell_type": "code",
   "execution_count": 1789,
   "metadata": {},
   "outputs": [
    {
     "name": "stdout",
     "output_type": "stream",
     "text": [
      "PassengerId int64\n",
      "Survived int64\n",
      "Pclass int64\n",
      "Name object\n",
      "Sex object\n",
      "Age float64\n",
      "SibSp int64\n",
      "Parch int64\n",
      "Ticket object\n",
      "Fare float64\n",
      "Cabin object\n",
      "Embarked object\n",
      "Home-Dest object\n"
     ]
    }
   ],
   "source": [
    "\"\"\"\n",
    "0   PassengerId  1309 non-null   int64  \n",
    " 1   Survived     1309 non-null   int64  \n",
    " 2   Pclass       1309 non-null   int64  \n",
    " 3   Name         1309 non-null   object \n",
    " 4   Sex          1309 non-null   object \n",
    " 5   Age          1046 non-null   float64\n",
    " 6   SibSp        1309 non-null   int64  \n",
    " 7   Parch        1309 non-null   int64  \n",
    " 8   Ticket       1309 non-null   object \n",
    " 9   Fare         1308 non-null   float64\n",
    " 10  Cabin        295 non-null    object \n",
    " 11  Embarked     1307 non-null   object \n",
    " 12  Home-Dest    745 non-null    object\n",
    "\"\"\"\n",
    "\n",
    "\"\"\"\n",
    "for x,y in df[0:3].iterrows():\n",
    "    print(x,y)\n",
    "\n",
    "for key, value in df[0:3].iteritems():\n",
    "    print(key, value)\n",
    "\"\"\"\n",
    "for key , value in df.iteritems():\n",
    "    print(key, value.dtype)\n"
   ]
  },
  {
   "cell_type": "markdown",
   "metadata": {},
   "source": [
    "4.) Welche Merkmale sind quantitativ, welche sind qualitativ?\n",
    "\n",
    "<b>Quantitative Merkmale</b>:  intervallskalierte metrische Werte, z.B. Körpergewicht, Einkommen. \n",
    "Für diese Merkmale können verschiedene mathematische Rechenoperationen durchgeführt werden, wie zum Beispiel die Errechnung eines Durchschnitts <br>\n",
    "\n",
    "<b>Qualitative Merkmale</b>:  Merkmale lassen sich eindeutig in Kategorien unterscheiden, diese Unterteilung besitzt jedoch keinen mathematischen Wert, z.B. Geschlecht, Religionszugehörigkeit. Für diese Merkmale kann lediglich ein Befragungsergebnis in Anteilen (x von 100%) wiedergegeben werden <br>\n",
    "\n",
    "<b>Beispiel aus dem Skript</b>:\n",
    "\n",
    "| Merkmal    | Wert                  | Typ |\n",
    "|:-----------|:----------------------|-------|\n",
    "| goldEarned | 15 Stk.               | Quantitativ |\n",
    "| kills      | 11 Stk.               | Quantitativ |\n",
    "| championId | 4312234               | Qualitativ |\n",
    "| lane       | {bootom, middle, top} | Qualitativ |\n",
    "| role       | {duo, solo, support}  | Qualitativ |"
   ]
  },
  {
   "cell_type": "code",
   "execution_count": 1790,
   "metadata": {},
   "outputs": [
    {
     "name": "stdout",
     "output_type": "stream",
     "text": [
      "PassengerId Quantitative Merkmale\n",
      "Survived Quantitative Merkmale\n",
      "Pclass Quantitative Merkmale\n",
      "Name Qualitatives Merkmale\n",
      "Sex Qualitatives Merkmale\n",
      "Age Quantitative Merkmale\n",
      "SibSp Quantitative Merkmale\n",
      "Parch Quantitative Merkmale\n",
      "Ticket Qualitatives Merkmale\n",
      "Fare Quantitative Merkmale\n",
      "Cabin Qualitatives Merkmale\n",
      "Embarked Qualitatives Merkmale\n",
      "Home-Dest Qualitatives Merkmale\n"
     ]
    }
   ],
   "source": [
    "#int and float -> Quantitative Merkmale\n",
    "#object -> Qualitative Merkmale\n",
    "\n",
    "for key , value in df.iteritems():\n",
    "    if value.dtype == \"int64\" or value.dtype == \"float64\":\n",
    "        print(key, \"Quantitative Merkmale\")\n",
    "    if value.dtype == \"object\":\n",
    "        print(key, \"Qualitatives Merkmale\")\n"
   ]
  },
  {
   "cell_type": "markdown",
   "metadata": {},
   "source": [
    "5.) Wieviel Prozent der Passagiere haben das Unglück überlebt?"
   ]
  },
  {
   "cell_type": "code",
   "execution_count": 1791,
   "metadata": {},
   "outputs": [
    {
     "name": "stdout",
     "output_type": "stream",
     "text": [
      "0.3819709702062643\n",
      "38.2 Prozent haben überlebt\n"
     ]
    }
   ],
   "source": [
    "summe = 0\n",
    "\n",
    "s = df[\"Survived\"]\n",
    "for j in s:\n",
    "    summe += j\n",
    "prozent = summe/ len(df[\"Survived\"])\n",
    "print(prozent)\n",
    "print(\"{} Prozent haben überlebt\".format(round(prozent*100,2)))\n"
   ]
  },
  {
   "cell_type": "markdown",
   "metadata": {},
   "source": [
    "6.) Wieviel Prozent der Überlebenden waren Frauen?"
   ]
  },
  {
   "cell_type": "code",
   "execution_count": 1792,
   "metadata": {},
   "outputs": [
    {
     "name": "stdout",
     "output_type": "stream",
     "text": [
      "0.678\n",
      "67.8 Prozent der Überlebten waren Frauen\n"
     ]
    }
   ],
   "source": [
    "x = df[['Survived','Sex']][df.Survived == 1]\n",
    "#print(x)\n",
    "summe = 0\n",
    "for i,j in x.values:\n",
    "    if j == \"female\":\n",
    "        summe += 1\n",
    "        \n",
    "\n",
    "prozent = summe/ len(x[\"Survived\"])\n",
    "print(prozent)\n",
    "print(\"{} Prozent der Überlebten waren Frauen\".format(round(prozent*100,2)))"
   ]
  },
  {
   "cell_type": "markdown",
   "metadata": {},
   "source": [
    "7.) Ermitteln Sie jeweils den Mittelwert des Alters für die folgenden Gruppen:"
   ]
  },
  {
   "cell_type": "markdown",
   "metadata": {},
   "source": [
    "7.a) für alle Passagiere"
   ]
  },
  {
   "cell_type": "code",
   "execution_count": 1793,
   "metadata": {},
   "outputs": [
    {
     "data": {
      "text/plain": "29.881137667304014"
     },
     "execution_count": 1793,
     "metadata": {},
     "output_type": "execute_result"
    }
   ],
   "source": [
    "df.Age.mean()"
   ]
  },
  {
   "cell_type": "markdown",
   "metadata": {},
   "source": [
    "7.b) getrennt nach Geschlecht"
   ]
  },
  {
   "cell_type": "code",
   "execution_count": 1794,
   "metadata": {},
   "outputs": [
    {
     "data": {
      "text/plain": "Sex\nfemale    28.687088\nmale      30.585228\nName: Age, dtype: float64"
     },
     "execution_count": 1794,
     "metadata": {},
     "output_type": "execute_result"
    }
   ],
   "source": [
    "df.Age.groupby(df.Sex).mean()"
   ]
  },
  {
   "cell_type": "markdown",
   "metadata": {},
   "source": [
    "7.c) für alle Überlebenden"
   ]
  },
  {
   "cell_type": "code",
   "execution_count": 1795,
   "metadata": {},
   "outputs": [
    {
     "data": {
      "text/plain": "Survived\n0    30.545363\n1    28.918244\nName: Age, dtype: float64"
     },
     "execution_count": 1795,
     "metadata": {},
     "output_type": "execute_result"
    }
   ],
   "source": [
    "df.Age.groupby(df.Survived).mean()"
   ]
  },
  {
   "cell_type": "markdown",
   "metadata": {},
   "source": [
    "7.d) für alle Frauen welche überlebt haben"
   ]
  },
  {
   "cell_type": "code",
   "execution_count": 1796,
   "metadata": {},
   "outputs": [
    {
     "data": {
      "text/plain": "29.815376712328767"
     },
     "execution_count": 1796,
     "metadata": {},
     "output_type": "execute_result"
    }
   ],
   "source": [
    "df.Age.groupby(by=[df.Sex , df.Survived]).mean()[\"female\"][1]"
   ]
  },
  {
   "cell_type": "markdown",
   "metadata": {},
   "source": [
    "7.e) für alle Frauen welche überlebt haben, gruppiert nach der Passagier Klasse (Pclass)"
   ]
  },
  {
   "cell_type": "code",
   "execution_count": 1797,
   "metadata": {},
   "outputs": [
    {
     "data": {
      "text/plain": "Pclass\n1    37.109375\n2    26.711087\n3    20.814861\nName: Age, dtype: float64"
     },
     "execution_count": 1797,
     "metadata": {},
     "output_type": "execute_result"
    }
   ],
   "source": [
    "x = df.Age.groupby(by=[df.Sex, df.Survived,df.Pclass]).mean()\n",
    "x[\"female\"][1]"
   ]
  },
  {
   "cell_type": "markdown",
   "metadata": {},
   "source": [
    "7.f) für alle Frauen welche nicht überlebt haben, gruppiert nach der Passagier Klasse (Pclass)"
   ]
  },
  {
   "cell_type": "code",
   "execution_count": 1798,
   "metadata": {},
   "outputs": [
    {
     "data": {
      "text/plain": "Pclass\n1    35.200000\n2    34.090909\n3    23.418750\nName: Age, dtype: float64"
     },
     "execution_count": 1798,
     "metadata": {},
     "output_type": "execute_result"
    }
   ],
   "source": [
    "x = df.Age.groupby(by=[df.Sex, df.Survived,df.Pclass]).mean()\n",
    "x[\"female\"][0]"
   ]
  },
  {
   "cell_type": "markdown",
   "metadata": {},
   "source": [
    "## 2.) Vorverarbeitung - Imputation (Statistik) - Datenlücken interpolieren\n",
    "Wie Sie vielleicht schon bei der ersten Aufgabe bemerkt haben, fehlen einzelne Merkmalsausprägungen im vorliegenden Datensatz (NaN-Werte). Dies ist in sofern problematisch da je nach Verfahren, unter Umständen die ganze Datenreihe nicht mehr weiter verarbeitet werden kann. Im vorliegenden Datensatz fehlen Werte in den Merkmalen 'Age' sowie 'Cabin' (siehe df.info()). Da beim Merkmal Cabin nur 204 Einträge vorliegen ist es hier sehr schwer die fehlenden Ausprägungen zu interpolieren. Wir konzentrieren uns daher vorerst auf das Alter, da hier eine größere Datenmenge vorliegt.\n",
    "\n",
    "Vervollständigen sie die Datenlücken in der Spalte 'Age'. Nutzen Sie dabei Wissen aus den vorliegenden Daten um die einzelnen Datenreihen zuverlässig zu vervollständigen. Es bietet sich an diesen Schritt in eine Funktion auszulagern. Überprüfen Sie Ihr Ergebniss."
   ]
  },
  {
   "cell_type": "code",
   "execution_count": 1799,
   "metadata": {},
   "outputs": [
    {
     "data": {
      "text/plain": "<AxesSubplot:>"
     },
     "execution_count": 1799,
     "metadata": {},
     "output_type": "execute_result"
    },
    {
     "data": {
      "text/plain": "<Figure size 432x288 with 1 Axes>",
      "image/png": "[encoded data removed]"
     },
     "metadata": {
      "needs_background": "light"
     },
     "output_type": "display_data"
    }
   ],
   "source": [
    "def prepareData(df1):\n",
    "    #to set a selection of a data frame please dont use the chained [] operator, but the .loc operator\n",
    "    #(see http://pandas.pydata.org/pandas-docs/stable/indexing.html#indexing-view-versus-copy for details)\n",
    "    \n",
    "    #minimal working example to set all null age values to 42 - probably you can do better :-)\n",
    "    df1.loc[df.Age.isnull(),'Age'] = 110\n",
    "    return df1\n",
    "\n",
    "# Schwierig umzusetzen da wenn Alter nicht vorhanden ist sollte der Komplette eintrage gelöscht werden\n",
    "# und nicht einfach durch mocup daten ersetzt werden\n",
    "df.Age.hist(alpha = 0.5)\n",
    "df1 = prepareData(df)\n",
    "df1.Age.hist(alpha = 0.5)\n",
    "#Löschen aller Null\n",
    "df2 = df.dropna()\n",
    "\n",
    "df2.Age.hist(alpha = 0.5)"
   ]
  },
  {
   "cell_type": "code",
   "execution_count": 1800,
   "outputs": [
    {
     "data": {
      "text/plain": "<AxesSubplot:>"
     },
     "execution_count": 1800,
     "metadata": {},
     "output_type": "execute_result"
    },
    {
     "data": {
      "text/plain": "<Figure size 432x288 with 1 Axes>",
      "image/png": "[encoded data removed]"
     },
     "metadata": {
      "needs_background": "light"
     },
     "output_type": "display_data"
    }
   ],
   "source": [
    "# Warum ist hier df mit Ages von über 100?\n",
    "# wurde noch nicht überschrieben und so?\n",
    "df.Age.hist(alpha = 0.5)\n",
    "#Löschen aller Null\n",
    "df2 = df.dropna()\n",
    "df2.Age.hist(alpha = 0.5)\n"
   ],
   "metadata": {
    "collapsed": false,
    "pycharm": {
     "name": "#%%\n"
    }
   }
  },
  {
   "cell_type": "markdown",
   "metadata": {},
   "source": [
    "Erzeugen Sie einen 'Vorher-Nachher'-Plot bei dem Sie die Auswirkungen Ihrer Imputationsmaßnahmen darstellen. Argumentieren und bewerten Sie ihre Maßnahmen.  \n"
   ]
  },
  {
   "cell_type": "markdown",
   "metadata": {},
   "source": [
    "## 3.) Visualisierung"
   ]
  },
  {
   "cell_type": "markdown",
   "metadata": {},
   "source": [
    "Um Zusammenhänge in Daten verstehen zu können, ist es essentiell die Daten zu visualisieren. Nutzen sie für die folgende Aufgabe die python Bibliothek matplotlib (siehe http://matplotlib.org/users/pyplot_tutorial.html). Da uns unsere Daten als padas DataFrame vorliegen, ist es für die einfacheren plots komfortabler die von pandas zur Verfügung gestellten wrapper methoden zu nutzen (siehe http://pandas.pydata.org/pandas-docs/stable/visualization.html).\n",
    "\n",
    "\n",
    "1.) Visualisieren Sie die absolute Verteilung der Überlebenden anhand eines Barplots. (Tipp: plt.hist(..) oder df.Survived.hist())"
   ]
  },
  {
   "cell_type": "code",
   "execution_count": 1801,
   "metadata": {},
   "outputs": [
    {
     "data": {
      "text/plain": "(array([ 90., 243., 350., 187., 117.,  50.,   8.,   1.,   0., 263.]),\n array([  0.17 ,  11.153,  22.136,  33.119,  44.102,  55.085,  66.068,\n         77.051,  88.034,  99.017, 110.   ]),\n <BarContainer object of 10 artists>)"
     },
     "execution_count": 1801,
     "metadata": {},
     "output_type": "execute_result"
    },
    {
     "data": {
      "text/plain": "<Figure size 432x288 with 1 Axes>",
      "image/png": "[encoded data removed]"
     },
     "metadata": {
      "needs_background": "light"
     },
     "output_type": "display_data"
    }
   ],
   "source": [
    "plt.hist(df.Age)"
   ]
  },
  {
   "cell_type": "markdown",
   "metadata": {},
   "source": [
    "2.) Visualisieren Sie die Anzahl der Passagiere in der jeweiligen Klasse (Pclass)"
   ]
  },
  {
   "cell_type": "code",
   "execution_count": 1802,
   "metadata": {},
   "outputs": [
    {
     "data": {
      "text/plain": "<AxesSubplot:ylabel='Frequency'>"
     },
     "execution_count": 1802,
     "metadata": {},
     "output_type": "execute_result"
    },
    {
     "data": {
      "text/plain": "<Figure size 432x288 with 1 Axes>",
      "image/png": "[encoded data removed]"
     },
     "metadata": {
      "needs_background": "light"
     },
     "output_type": "display_data"
    }
   ],
   "source": [
    "#plt.hist(df.Pclass, bins = 6)\n",
    "df.Pclass.plot(kind=\"hist\")"
   ]
  },
  {
   "cell_type": "markdown",
   "metadata": {},
   "source": [
    "3.) Visualisieren Sie die Verteilung des Alters pro Geschlecht als Histogramm. "
   ]
  },
  {
   "cell_type": "code",
   "execution_count": 1803,
   "metadata": {},
   "outputs": [
    {
     "data": {
      "text/plain": "(array([ 48., 144., 232., 123.,  70.,  33.,   7.,   1.,   0., 185.]),\n array([  0.33 ,  11.297,  22.264,  33.231,  44.198,  55.165,  66.132,\n         77.099,  88.066,  99.033, 110.   ]),\n <BarContainer object of 10 artists>)"
     },
     "execution_count": 1803,
     "metadata": {},
     "output_type": "execute_result"
    },
    {
     "data": {
      "text/plain": "<Figure size 432x288 with 2 Axes>",
      "image/png": "[encoded data removed]"
     },
     "metadata": {
      "needs_background": "light"
     },
     "output_type": "display_data"
    }
   ],
   "source": [
    "x1 = df[[\"Age\"]][df.Sex == \"female\"]\n",
    "fig, axs = plt.subplots(2)\n",
    "\n",
    "axs[0].hist(x1[\"Age\"],label= \"Age\")\n",
    "\n",
    "x2 = df[[\"Age\"]][df.Sex == \"male\"]\n",
    "axs[1].hist(x2[\"Age\"],label= \"Age\")\n"
   ]
  },
  {
   "cell_type": "markdown",
   "metadata": {},
   "source": [
    "4.) Visualisiern Sie die Verteilung des Alters pro Klasse als Wahrscheinlichkeitsdichte. Stellen Sie die Graphen gemeinsam in einem Plot dar (Tipp: plot(kind='density'), möglicherweise müssen sie hier das Python-Paket *scipy* nachinstallieren)."
   ]
  },
  {
   "cell_type": "code",
   "execution_count": 1804,
   "metadata": {},
   "outputs": [
    {
     "data": {
      "text/plain": "Pclass\n1    AxesSubplot(0.125,0.125;0.775x0.755)\n2    AxesSubplot(0.125,0.125;0.775x0.755)\n3    AxesSubplot(0.125,0.125;0.775x0.755)\nName: Age, dtype: object"
     },
     "execution_count": 1804,
     "metadata": {},
     "output_type": "execute_result"
    },
    {
     "data": {
      "text/plain": "<Figure size 432x288 with 1 Axes>",
      "image/png": "[encoded data removed]"
     },
     "metadata": {
      "needs_background": "light"
     },
     "output_type": "display_data"
    }
   ],
   "source": [
    "#x = df[[\"Age\"]]\n",
    "x = df.Age.groupby(df.Pclass)\n",
    "plt.figure()\n",
    "x.plot(kind='density')\n",
    "#sns.kdeplot(x= x, bw=0.5)\n"
   ]
  },
  {
   "cell_type": "markdown",
   "metadata": {},
   "source": [
    " 5) Visualisieren Sie den Zusammenhang zwischen dem Alter und dem Ticketpreis in einem scatter plot. Interpretieren Sie das Resultat."
   ]
  },
  {
   "cell_type": "code",
   "execution_count": 1805,
   "metadata": {},
   "outputs": [
    {
     "data": {
      "text/plain": "<AxesSubplot:xlabel='Age', ylabel='Pclass'>"
     },
     "execution_count": 1805,
     "metadata": {},
     "output_type": "execute_result"
    },
    {
     "data": {
      "text/plain": "<Figure size 432x288 with 1 Axes>",
      "image/png": "[encoded data removed]"
     },
     "metadata": {
      "needs_background": "light"
     },
     "output_type": "display_data"
    }
   ],
   "source": [
    "df.plot.scatter(x=\"Age\",y =\"Pclass\")"
   ]
  },
  {
   "cell_type": "markdown",
   "metadata": {},
   "source": [
    "In den bisherigen Plots haben wir einzelne Merkmale unabhängig der Klassenzugehörigkeiten 'Survived' dargestellt. Um die vorliegenden Daten besser zu verstehen und trennungswirksame Merkmale zu identifizieren soll nun untersucht werden wie sich die einzelnen Merkmale in Bezug auf die später vorherzusagende Klasse verhalten.\n",
    "\n",
    "6) Untersuchen Sie die Korrelation zwischen dem Geschlecht und den Überleben der Katastrophe. Erstellen Sie eine oder mehrere geeignete Visualisierung(en) und interpretieren Sie diese.\n"
   ]
  },
  {
   "cell_type": "code",
   "execution_count": 1806,
   "metadata": {},
   "outputs": [
    {
     "data": {
      "text/plain": "<AxesSubplot:xlabel='Age', ylabel='Sex'>"
     },
     "execution_count": 1806,
     "metadata": {},
     "output_type": "execute_result"
    },
    {
     "data": {
      "text/plain": "<Figure size 432x288 with 1 Axes>",
      "image/png": "[encoded data removed]"
     },
     "metadata": {
      "needs_background": "light"
     },
     "output_type": "display_data"
    },
    {
     "data": {
      "text/plain": "<Figure size 432x288 with 0 Axes>"
     },
     "metadata": {},
     "output_type": "display_data"
    },
    {
     "data": {
      "text/plain": "<Figure size 432x288 with 1 Axes>",
      "image/png": "[encoded data removed]"
     },
     "metadata": {
      "needs_background": "light"
     },
     "output_type": "display_data"
    },
    {
     "data": {
      "text/plain": "<Figure size 432x288 with 2 Axes>",
      "image/png": "[encoded data removed]"
     },
     "metadata": {
      "needs_background": "light"
     },
     "output_type": "display_data"
    }
   ],
   "source": [
    "x = df.Age.groupby(df.Survived)\n",
    "plt.figure(0)\n",
    "x.plot(x=\"Age\",y =\"Survived\",kind=\"density\")\n",
    "\n",
    "\n",
    "#Der bringt gar nix\n",
    "plt.figure(1)\n",
    "df.plot(x=\"Age\",y =\"Survived\", kind=\"density\")\n",
    "\n",
    "\n",
    "\n",
    "plt.figure(2)\n",
    "df.plot.scatter(x=\"Age\", y= \"Sex\", c = \"Survived\",cmap=\"viridis\")"
   ]
  },
  {
   "cell_type": "code",
   "execution_count": 1807,
   "outputs": [
    {
     "name": "stdout",
     "output_type": "stream",
     "text": [
      "      Survived    Age\n",
      "0            1   29.0\n",
      "2            0    2.0\n",
      "4            0   25.0\n",
      "6            1   63.0\n",
      "8            1   53.0\n",
      "...        ...    ...\n",
      "1286         1   38.0\n",
      "1290         1   47.0\n",
      "1300         1   15.0\n",
      "1304         0   14.5\n",
      "1305         0  110.0\n",
      "\n",
      "[466 rows x 2 columns]\n",
      "      Survived     Age\n",
      "1            1    0.92\n",
      "3            0   30.00\n",
      "5            1   48.00\n",
      "7            0   39.00\n",
      "9            0   71.00\n",
      "...        ...     ...\n",
      "1302         0  110.00\n",
      "1303         0  110.00\n",
      "1306         0   26.50\n",
      "1307         0   27.00\n",
      "1308         0   29.00\n",
      "\n",
      "[843 rows x 2 columns]\n"
     ]
    },
    {
     "name": "stderr",
     "output_type": "stream",
     "text": [
      "C:\\Users\\Green\\AppData\\Local\\Temp/ipykernel_31964/2411274125.py:4: UserWarning: Boolean Series key will be reindexed to match DataFrame index.\n",
      "  female[(df.Survived == 1)].hist()\n"
     ]
    },
    {
     "data": {
      "text/plain": "array([[<AxesSubplot:title={'center':'Survived'}>,\n        <AxesSubplot:title={'center':'Age'}>]], dtype=object)"
     },
     "execution_count": 1807,
     "metadata": {},
     "output_type": "execute_result"
    },
    {
     "data": {
      "text/plain": "<Figure size 432x288 with 0 Axes>"
     },
     "metadata": {},
     "output_type": "display_data"
    },
    {
     "data": {
      "text/plain": "<Figure size 432x288 with 2 Axes>",
      "image/png": "[encoded data removed]"
     },
     "metadata": {
      "needs_background": "light"
     },
     "output_type": "display_data"
    },
    {
     "data": {
      "text/plain": "<Figure size 432x288 with 2 Axes>",
      "image/png": "[encoded data removed]"
     },
     "metadata": {
      "needs_background": "light"
     },
     "output_type": "display_data"
    }
   ],
   "source": [
    "plt.figure(0)\n",
    "female = df[[\"Survived\",\"Age\"]][(df.Sex == \"female\")]\n",
    "print(female)\n",
    "female[(df.Survived == 1)].hist()\n",
    "\n",
    "male = df[[\"Survived\",\"Age\"]][(df.Sex == \"male\")]\n",
    "print(male)\n",
    "male.hist()\n"
   ],
   "metadata": {
    "collapsed": false,
    "pycharm": {
     "name": "#%%\n"
    }
   }
  },
  {
   "cell_type": "code",
   "execution_count": 1808,
   "outputs": [
    {
     "name": "stdout",
     "output_type": "stream",
     "text": [
      "Count\n",
      "male 0    682\n",
      "1    161\n",
      "Name: Survived, dtype: int64\n",
      "female 1    339\n",
      "0    127\n",
      "Name: Survived, dtype: int64\n",
      "[161, 682, 339, 127]\n"
     ]
    },
    {
     "data": {
      "text/plain": "([<matplotlib.patches.Wedge at 0x1898ed7ca60>,\n  <matplotlib.patches.Wedge at 0x1898edc9c40>,\n  <matplotlib.patches.Wedge at 0x1898edd5160>,\n  <matplotlib.patches.Wedge at 0x1898edd5640>],\n [Text(1.0188992886173225, 0.41454099876262435, ''),\n  Text(-0.8182244221822221, 0.7351930324374469, ''),\n  Text(0.16177092389787737, -1.0880395986273788, ''),\n  Text(1.0492979733653167, -0.330111743340705, '')])"
     },
     "execution_count": 1808,
     "metadata": {},
     "output_type": "execute_result"
    },
    {
     "data": {
      "text/plain": "<Figure size 720x504 with 1 Axes>",
      "image/png": "[encoded data removed]"
     },
     "metadata": {},
     "output_type": "display_data"
    }
   ],
   "source": [
    "def func(pct, allvalues):\n",
    "    absolute = int(pct / 100.*np.sum(allvalues))\n",
    "    return \"{:.1f}%\\n({:d} g)\".format(pct, absolute)\n",
    "\n",
    "\n",
    "print(\"Count\")\n",
    "print(\"male\", male.Survived.value_counts())\n",
    "print(\"female\",female.Survived.value_counts())\n",
    "##besseren weg als x und y tauschen?\n",
    "death_male,alive_male = male.Survived.value_counts()\n",
    "alive_female ,death_female = female.Survived.value_counts()\n",
    "data = [alive_male,death_male,alive_female, death_female]\n",
    "label = [\"male Survived\",\"male Death\", \"female Survived\", \"female Death\"]\n",
    "\n",
    "print(data)\n",
    "fig, ax = plt.subplots(figsize =(10, 7))\n",
    "wedges, texts, autotexts = ax.pie(data,\n",
    "                                  autopct = lambda pct: func(pct, data),\n",
    "                                  labels = label,\n",
    "                                  shadow = True,\n",
    "                                  startangle = 0,\n",
    "                                  textprops = dict(color =\"black\"))\n",
    "plt.setp(autotexts,size = 8, weight= \"bold\")\n",
    "plt.pie(x=data)\n",
    "\n",
    "\n",
    "#female.plot(x=\"Age\",y=\"Survived\",kind=\"hist\")\n"
   ],
   "metadata": {
    "collapsed": false,
    "pycharm": {
     "name": "#%%\n"
    }
   }
  },
  {
   "cell_type": "markdown",
   "metadata": {},
   "source": [
    "7) Untersuchen Sie die Korrelation zwischen dem Alter und den Überleben der Katastrophe. Erstellen Sie eine geeignete Visualisierung und interpretieren Sie diese."
   ]
  },
  {
   "cell_type": "code",
   "execution_count": 1809,
   "metadata": {},
   "outputs": [
    {
     "name": "stdout",
     "output_type": "stream",
     "text": [
      "      Survived    Age\n",
      "0            1   29.0\n",
      "2            0    2.0\n",
      "4            0   25.0\n",
      "6            1   63.0\n",
      "8            1   53.0\n",
      "...        ...    ...\n",
      "1286         1   38.0\n",
      "1290         1   47.0\n",
      "1300         1   15.0\n",
      "1304         0   14.5\n",
      "1305         0  110.0\n",
      "\n",
      "[466 rows x 2 columns]\n",
      "      Survived     Age\n",
      "1            1    0.92\n",
      "3            0   30.00\n",
      "5            1   48.00\n",
      "7            0   39.00\n",
      "9            0   71.00\n",
      "...        ...     ...\n",
      "1302         0  110.00\n",
      "1303         0  110.00\n",
      "1306         0   26.50\n",
      "1307         0   27.00\n",
      "1308         0   29.00\n",
      "\n",
      "[843 rows x 2 columns]\n"
     ]
    },
    {
     "name": "stderr",
     "output_type": "stream",
     "text": [
      "C:\\Users\\Green\\AppData\\Local\\Temp/ipykernel_31964/1765703617.py:4: UserWarning: Boolean Series key will be reindexed to match DataFrame index.\n",
      "  female[(df.Survived == 1)].hist()\n"
     ]
    },
    {
     "data": {
      "text/plain": "<AxesSubplot:ylabel='Frequency'>"
     },
     "execution_count": 1809,
     "metadata": {},
     "output_type": "execute_result"
    },
    {
     "data": {
      "text/plain": "<Figure size 432x288 with 0 Axes>"
     },
     "metadata": {},
     "output_type": "display_data"
    },
    {
     "data": {
      "text/plain": "<Figure size 432x288 with 2 Axes>",
      "image/png": "[encoded data removed]"
     },
     "metadata": {
      "needs_background": "light"
     },
     "output_type": "display_data"
    },
    {
     "data": {
      "text/plain": "<Figure size 432x288 with 2 Axes>",
      "image/png": "[encoded data removed]"
     },
     "metadata": {
      "needs_background": "light"
     },
     "output_type": "display_data"
    },
    {
     "data": {
      "text/plain": "<Figure size 432x288 with 1 Axes>",
      "image/png": "[encoded data removed]"
     },
     "metadata": {
      "needs_background": "light"
     },
     "output_type": "display_data"
    },
    {
     "data": {
      "text/plain": "<Figure size 432x288 with 1 Axes>",
      "image/png": "[encoded data removed]"
     },
     "metadata": {
      "needs_background": "light"
     },
     "output_type": "display_data"
    }
   ],
   "source": [
    "plt.figure(0)\n",
    "female = df[[\"Survived\",\"Age\"]][(df.Sex == \"female\")]\n",
    "print(female)\n",
    "female[(df.Survived == 1)].hist()\n",
    "\n",
    "male = df[[\"Survived\",\"Age\"]][(df.Sex == \"male\")]\n",
    "print(male)\n",
    "male.hist()\n",
    "\n",
    "\n",
    "death = df[[\"Age\"]][df.Survived ==0]\n",
    "alive = df[[\"Age\"]][df.Survived ==1]\n",
    "death.plot.hist(density=True)\n",
    "alive.plot.hist(density=True)\n",
    "\n"
   ]
  },
  {
   "cell_type": "markdown",
   "metadata": {},
   "source": [
    "8) Untersuchen Sie die Korrelation zwischen Passagier Klasse und den Überleben der Katastrophe. Erstellen Sie eine oder mehrere geeignete Visualisierungen und interpretieren Sie diese.\n",
    "\n"
   ]
  },
  {
   "cell_type": "code",
   "execution_count": 1810,
   "metadata": {},
   "outputs": [
    {
     "data": {
      "text/plain": "([<matplotlib.patches.Wedge at 0x1898f1ec9d0>,\n  <matplotlib.patches.Wedge at 0x1898f1ecf40>,\n  <matplotlib.patches.Wedge at 0x1898f1fa460>,\n  <matplotlib.patches.Wedge at 0x1898f1fa940>,\n  <matplotlib.patches.Wedge at 0x1898f190b50>,\n  <matplotlib.patches.Wedge at 0x1898f205310>],\n [Text(0.975694988935099, 0.5079559907776828, ''),\n  Text(0.34142482234543065, 1.0456715979151348, ''),\n  Text(-0.28831185252377783, 1.0615442881454864, ''),\n  Text(-0.8817805089510535, 0.6576192926260765, ''),\n  Text(-1.0836179879617862, -0.1891350209920155, ''),\n  Text(0.3288525301048629, -1.0496932949407796, '')])"
     },
     "execution_count": 1810,
     "metadata": {},
     "output_type": "execute_result"
    },
    {
     "data": {
      "text/plain": "<Figure size 432x288 with 0 Axes>"
     },
     "metadata": {},
     "output_type": "display_data"
    },
    {
     "data": {
      "text/plain": "<Figure size 432x288 with 1 Axes>",
      "image/png": "[encoded data removed]"
     },
     "metadata": {
      "needs_background": "light"
     },
     "output_type": "display_data"
    },
    {
     "data": {
      "text/plain": "<Figure size 432x288 with 1 Axes>",
      "image/png": "[encoded data removed]"
     },
     "metadata": {
      "needs_background": "light"
     },
     "output_type": "display_data"
    },
    {
     "data": {
      "text/plain": "<Figure size 432x288 with 1 Axes>",
      "image/png": "[encoded data removed]"
     },
     "metadata": {
      "needs_background": "light"
     },
     "output_type": "display_data"
    },
    {
     "data": {
      "text/plain": "<Figure size 720x504 with 1 Axes>",
      "image/png": "[encoded data removed]"
     },
     "metadata": {},
     "output_type": "display_data"
    }
   ],
   "source": [
    "plt.figure(0)\n",
    "frist = df[[\"Survived\"]][(df.Pclass == 1)]\n",
    "\n",
    "frist.hist(alpha= 0.5)\n",
    "\n",
    "second = df[[\"Survived\"]][(df.Pclass == 2)]\n",
    "second.hist(alpha= 0.5)\n",
    "third = df[[\"Survived\"]][(df.Pclass == 3)]\n",
    "third.hist(alpha= 0.5)\n",
    "\n",
    "\n",
    "x0, y0 = frist.value_counts(\"Survived\")\n",
    "y1, x1 = second.value_counts(\"Survived\")\n",
    "y2, x2 = third.value_counts(\"Survived\")\n",
    "\n",
    "data = [x0, y0,x1,y1,x2,y2]\n",
    "\n",
    "labels = [\"first Class Alive\", \"first Class Death\",\"second Class Alive\",\"second Class Death\",\"third Class Alive\",\"third Class Death\"]\n",
    "\n",
    "fig, ax = plt.subplots(figsize =(10, 7))\n",
    "wedges, texts, autotexts = ax.pie(data,\n",
    "                                  autopct = lambda pct: func(pct, data),\n",
    "                                  labels = labels,\n",
    "                                  shadow = True,\n",
    "                                  startangle = 0,\n",
    "                                  textprops = dict(color =\"black\"))\n",
    "plt.setp(autotexts,size = 8, weight= \"bold\")\n",
    "plt.pie(x=data)"
   ]
  }
 ],
 "metadata": {
  "anaconda-cloud": {},
  "interpreter": {
   "hash": "bbd5b416a8e5619b29095f47e25a760d33ae8dd6ce65b6de92bb99b22668b00d"
  },
  "kernelspec": {
   "name": "pycharm-326914a4",
   "language": "python",
   "display_name": "PyCharm (hska_ml_lab_master_exercises)"
  },
  "language_info": {
   "codemirror_mode": {
    "name": "ipython",
    "version": 3
   },
   "file_extension": ".py",
   "mimetype": "text/x-python",
   "name": "python",
   "nbconvert_exporter": "python",
   "pygments_lexer": "ipython3",
   "version": "3.8.0"
  }
 },
 "nbformat": 4,
 "nbformat_minor": 2
}