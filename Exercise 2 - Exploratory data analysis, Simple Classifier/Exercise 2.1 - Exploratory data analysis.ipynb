{
 "cells": [
  {
   "cell_type": "markdown",
   "metadata": {},
   "source": [
    "# Einführung Titanic-Datensatz"
   ]
  },
  {
   "cell_type": "markdown",
   "metadata": {},
   "source": [
    "Das Ziel der heutigen Vorlesung ist den Titanic-Datensatz von kaggle.com zu untersuchen.\n",
    "\n",
    "Eine Beschreibung des Titanic-Datensatz ist hier zu finden:\n",
    "https://www.kaggle.com/c/titanic\n",
    "***\n",
    "```\n",
    "The sinking of the RMS Titanic is one of the most infamous shipwrecks in history.  On April 15, 1912, during her maiden voyage, the Titanic sank after colliding with an iceberg, killing 1502 out of 2224 passengers and crew. This sensational tragedy shocked the international community and led to better safety regulations for ships.\n",
    "\n",
    "One of the reasons that the shipwreck led to such loss of life was that there were not enough lifeboats for the passengers and crew. Although there was some element of luck involved in surviving the sinking, some groups of people were more likely to survive than others, such as women, children, and the upper-class.\n",
    "\n",
    "In this challenge, we ask you to complete the analysis of what sorts of people were likely to survive. In particular, we ask you to apply the tools of machine learning to predict which passengers survived the tragedy.\n",
    "\n",
    "\n",
    "VARIABLE DESCRIPTIONS:\n",
    "survived        Survival\n",
    "                (0 = No; 1 = Yes)\n",
    "pclass          Passenger Class\n",
    "                (1 = 1st; 2 = 2nd; 3 = 3rd)\n",
    "name            Name\n",
    "sex             Sex\n",
    "age             Age\n",
    "sibsp           Number of Siblings/Spouses Aboard\n",
    "parch           Number of Parents/Children Aboard\n",
    "ticket          Ticket Number\n",
    "fare            Passenger Fare\n",
    "cabin           Cabin\n",
    "embarked        Port of Embarkation\n",
    "                (C = Cherbourg; Q = Queenstown; S = Southampton)\n",
    "\n",
    "SPECIAL NOTES:\n",
    "Pclass is a proxy for socio-economic status (SES)\n",
    " 1st ~ Upper; 2nd ~ Middle; 3rd ~ Lower\n",
    "\n",
    "Age is in Years; Fractional if Age less than One (1)\n",
    " If the Age is Estimated, it is in the form xx.5\n",
    "\n",
    "With respect to the family relation variables (i.e. sibsp and parch)\n",
    "some relations were ignored.  The following are the definitions used\n",
    "for sibsp and parch.\n",
    "\n",
    "Sibling:  Brother, Sister, Stepbrother, or Stepsister of Passenger Aboard Titanic\n",
    "Spouse:   Husband or Wife of Passenger Aboard Titanic (Mistresses and Fiances Ignored)\n",
    "Parent:   Mother or Father of Passenger Aboard Titanic\n",
    "Child:    Son, Daughter, Stepson, or Stepdaughter of Passenger Aboard Titanic\n",
    "\n",
    "Other family relatives excluded from this study include cousins,\n",
    "nephews/nieces, aunts/uncles, and in-laws.  Some children travelled\n",
    "only with a nanny, therefore parch=0 for them.  As well, some\n",
    "travelled with very close friends or neighbors in a village, however,\n",
    "the definitions do not support such relations.\n",
    "```\n",
    "***\n",
    "\n",
    "\n",
    "Im Rahmen der Aufgaben werden folgende bereits bekannte Frameworks verwendet:\n",
    "- numPy:   Numerik-Framework, \"Brücke\" zu Fortran / C (http://www.numpy.org/)\n",
    "- pandas:  Datenstrukturen und zugehörige Operationen (http://pandas.pydata.org/)\n",
    "- pyplot:  prozedurales Interface für Matplotlib          (http://matplotlib.org/users/pyplot_tutorial.html)\n",
    "\n",
    "Im Folgenden werden die für diese Aufgabe benötigten Imports getätigt, sowie den Datensatz als *Pandas Dataframe* eingelesen:"
   ]
  },
  {
   "cell_type": "code",
   "execution_count": 167,
   "metadata": {},
   "outputs": [],
   "source": [
    "import numpy as np\n",
    "import csv as csv\n",
    "import matplotlib.pyplot as plt\n",
    "import pandas as pd\n",
    "import itertools\n",
    "%matplotlib inline\n",
    "\n",
    "DATA_FILE = '../Data/original_titanic.csv'\n",
    "df = pd.read_csv(DATA_FILE, header=0)"
   ]
  },
  {
   "cell_type": "markdown",
   "metadata": {},
   "source": [
    "## 1.) Datenanalyse mit Pandas \n",
    "Das DataFrame Object aus der panda Bibliothek ist eine mächtige Datenstruktur mit vielen praktischen Funktionen um mit großen Datensätzen umzugehen. Um einen schnellen Einstieg in pandas zu erhalten empfehle ich Ihnen ein Blick in das 10 Minutes to pandas Tutorial zu werfen: http://pandas.pydata.org/pandas-docs/stable/10min.html. Umfangreiche Informationen finden Sie in der pandas Dokumentation (http://pandas.pydata.org/pandas-docs/stable/index.html). Häufig ist auch die ipython Autovervollständigung (TAB) ein gutes Hilfsmittel um entsprechende Methoden das DataFrames zu finden.\n",
    "\n",
    "Im Folgenden finden Sie einige einfache, selbsterklärende Beispiele für den Umgang mit dem Pandas DataFrame. Führen Sie die Beispiele aus (z.B. in dem Sie bei fokussierter Zelle Shift+ENTER drücken) und schauen Sie sich die Ergebnisse an. \n",
    " "
   ]
  },
  {
   "cell_type": "code",
   "execution_count": 168,
   "metadata": {
    "scrolled": false
   },
   "outputs": [
    {
     "name": "stdout",
     "output_type": "stream",
     "text": [
      "<class 'pandas.core.frame.DataFrame'>\n",
      "RangeIndex: 1309 entries, 0 to 1308\n",
      "Data columns (total 13 columns):\n",
      " #   Column       Non-Null Count  Dtype  \n",
      "---  ------       --------------  -----  \n",
      " 0   PassengerId  1309 non-null   int64  \n",
      " 1   Survived     1309 non-null   int64  \n",
      " 2   Pclass       1309 non-null   int64  \n",
      " 3   Name         1309 non-null   object \n",
      " 4   Sex          1309 non-null   object \n",
      " 5   Age          1046 non-null   float64\n",
      " 6   SibSp        1309 non-null   int64  \n",
      " 7   Parch        1309 non-null   int64  \n",
      " 8   Ticket       1309 non-null   object \n",
      " 9   Fare         1308 non-null   float64\n",
      " 10  Cabin        295 non-null    object \n",
      " 11  Embarked     1307 non-null   object \n",
      " 12  Home-Dest    745 non-null    object \n",
      "dtypes: float64(2), int64(5), object(6)\n",
      "memory usage: 133.1+ KB\n"
     ]
    }
   ],
   "source": [
    "df.info()"
   ]
  },
  {
   "cell_type": "code",
   "execution_count": 169,
   "metadata": {
    "scrolled": true
   },
   "outputs": [
    {
     "data": {
      "text/html": [
       "<div>\n",
       "<style scoped>\n",
       "    .dataframe tbody tr th:only-of-type {\n",
       "        vertical-align: middle;\n",
       "    }\n",
       "\n",
       "    .dataframe tbody tr th {\n",
       "        vertical-align: top;\n",
       "    }\n",
       "\n",
       "    .dataframe thead th {\n",
       "        text-align: right;\n",
       "    }\n",
       "</style>\n",
       "<table border=\"1\" class=\"dataframe\">\n",
       "  <thead>\n",
       "    <tr style=\"text-align: right;\">\n",
       "      <th></th>\n",
       "      <th>PassengerId</th>\n",
       "      <th>Survived</th>\n",
       "      <th>Pclass</th>\n",
       "      <th>Age</th>\n",
       "      <th>SibSp</th>\n",
       "      <th>Parch</th>\n",
       "      <th>Fare</th>\n",
       "    </tr>\n",
       "  </thead>\n",
       "  <tbody>\n",
       "    <tr>\n",
       "      <th>count</th>\n",
       "      <td>1309.000000</td>\n",
       "      <td>1309.000000</td>\n",
       "      <td>1309.000000</td>\n",
       "      <td>1046.000000</td>\n",
       "      <td>1309.000000</td>\n",
       "      <td>1309.000000</td>\n",
       "      <td>1308.000000</td>\n",
       "    </tr>\n",
       "    <tr>\n",
       "      <th>mean</th>\n",
       "      <td>655.000000</td>\n",
       "      <td>0.381971</td>\n",
       "      <td>2.294882</td>\n",
       "      <td>29.881138</td>\n",
       "      <td>0.498854</td>\n",
       "      <td>0.385027</td>\n",
       "      <td>33.295479</td>\n",
       "    </tr>\n",
       "    <tr>\n",
       "      <th>std</th>\n",
       "      <td>378.020061</td>\n",
       "      <td>0.486055</td>\n",
       "      <td>0.837836</td>\n",
       "      <td>14.413493</td>\n",
       "      <td>1.041658</td>\n",
       "      <td>0.865560</td>\n",
       "      <td>51.758668</td>\n",
       "    </tr>\n",
       "    <tr>\n",
       "      <th>min</th>\n",
       "      <td>1.000000</td>\n",
       "      <td>0.000000</td>\n",
       "      <td>1.000000</td>\n",
       "      <td>0.170000</td>\n",
       "      <td>0.000000</td>\n",
       "      <td>0.000000</td>\n",
       "      <td>0.000000</td>\n",
       "    </tr>\n",
       "    <tr>\n",
       "      <th>25%</th>\n",
       "      <td>328.000000</td>\n",
       "      <td>0.000000</td>\n",
       "      <td>2.000000</td>\n",
       "      <td>21.000000</td>\n",
       "      <td>0.000000</td>\n",
       "      <td>0.000000</td>\n",
       "      <td>7.895800</td>\n",
       "    </tr>\n",
       "    <tr>\n",
       "      <th>50%</th>\n",
       "      <td>655.000000</td>\n",
       "      <td>0.000000</td>\n",
       "      <td>3.000000</td>\n",
       "      <td>28.000000</td>\n",
       "      <td>0.000000</td>\n",
       "      <td>0.000000</td>\n",
       "      <td>14.454200</td>\n",
       "    </tr>\n",
       "    <tr>\n",
       "      <th>75%</th>\n",
       "      <td>982.000000</td>\n",
       "      <td>1.000000</td>\n",
       "      <td>3.000000</td>\n",
       "      <td>39.000000</td>\n",
       "      <td>1.000000</td>\n",
       "      <td>0.000000</td>\n",
       "      <td>31.275000</td>\n",
       "    </tr>\n",
       "    <tr>\n",
       "      <th>max</th>\n",
       "      <td>1309.000000</td>\n",
       "      <td>1.000000</td>\n",
       "      <td>3.000000</td>\n",
       "      <td>80.000000</td>\n",
       "      <td>8.000000</td>\n",
       "      <td>9.000000</td>\n",
       "      <td>512.329200</td>\n",
       "    </tr>\n",
       "  </tbody>\n",
       "</table>\n",
       "</div>"
      ],
      "text/plain": [
       "       PassengerId     Survived       Pclass          Age        SibSp  \\\n",
       "count  1309.000000  1309.000000  1309.000000  1046.000000  1309.000000   \n",
       "mean    655.000000     0.381971     2.294882    29.881138     0.498854   \n",
       "std     378.020061     0.486055     0.837836    14.413493     1.041658   \n",
       "min       1.000000     0.000000     1.000000     0.170000     0.000000   \n",
       "25%     328.000000     0.000000     2.000000    21.000000     0.000000   \n",
       "50%     655.000000     0.000000     3.000000    28.000000     0.000000   \n",
       "75%     982.000000     1.000000     3.000000    39.000000     1.000000   \n",
       "max    1309.000000     1.000000     3.000000    80.000000     8.000000   \n",
       "\n",
       "             Parch         Fare  \n",
       "count  1309.000000  1308.000000  \n",
       "mean      0.385027    33.295479  \n",
       "std       0.865560    51.758668  \n",
       "min       0.000000     0.000000  \n",
       "25%       0.000000     7.895800  \n",
       "50%       0.000000    14.454200  \n",
       "75%       0.000000    31.275000  \n",
       "max       9.000000   512.329200  "
      ]
     },
     "execution_count": 169,
     "metadata": {},
     "output_type": "execute_result"
    }
   ],
   "source": [
    "df.describe()"
   ]
  },
  {
   "cell_type": "markdown",
   "metadata": {},
   "source": [
    "## header\n"
   ]
  },
  {
   "cell_type": "code",
   "execution_count": 170,
   "metadata": {},
   "outputs": [
    {
     "data": {
      "text/plain": [
       "0    29.00\n",
       "1     0.92\n",
       "2     2.00\n",
       "3    30.00\n",
       "4    25.00\n",
       "Name: Age, dtype: float64"
      ]
     },
     "execution_count": 170,
     "metadata": {},
     "output_type": "execute_result"
    }
   ],
   "source": [
    "df.Age[0:5]"
   ]
  },
  {
   "cell_type": "code",
   "execution_count": 171,
   "metadata": {},
   "outputs": [
    {
     "name": "stdout",
     "output_type": "stream",
     "text": [
      "     Age     Sex\n",
      "0  29.00  female\n",
      "1   0.92    male\n",
      "2   2.00  female\n"
     ]
    }
   ],
   "source": [
    "print(df[['Age','Sex']][0:3])"
   ]
  },
  {
   "cell_type": "code",
   "execution_count": 172,
   "metadata": {
    "scrolled": true
   },
   "outputs": [
    {
     "data": {
      "text/plain": [
       "1      0.92\n",
       "2      2.00\n",
       "3     30.00\n",
       "4     25.00\n",
       "5     48.00\n",
       "6     63.00\n",
       "7     39.00\n",
       "8     53.00\n",
       "9     71.00\n",
       "10    47.00\n",
       "Name: Age, dtype: float64"
      ]
     },
     "execution_count": 172,
     "metadata": {},
     "output_type": "execute_result"
    }
   ],
   "source": [
    "df.loc[1:10,'Age']"
   ]
  },
  {
   "cell_type": "code",
   "execution_count": 173,
   "metadata": {},
   "outputs": [
    {
     "name": "stdout",
     "output_type": "stream",
     "text": [
      "     Age     Sex\n",
      "0   29.0  female\n",
      "4   25.0  female\n",
      "6   63.0  female\n",
      "8   53.0  female\n",
      "12  24.0  female\n"
     ]
    }
   ],
   "source": [
    "x = df[['Age','Sex']][(df.Sex == 'female') & (df.Age > 20)][0:5]\n",
    "print(x)"
   ]
  },
  {
   "cell_type": "code",
   "execution_count": 174,
   "metadata": {},
   "outputs": [
    {
     "name": "stdout",
     "output_type": "stream",
     "text": [
      "<class 'pandas.core.frame.DataFrame'>\n",
      "<class 'numpy.ndarray'>\n",
      "age 29, sex female\n",
      "age 25, sex female\n",
      "age 63, sex female\n",
      "age 53, sex female\n",
      "age 24, sex female\n"
     ]
    }
   ],
   "source": [
    "print(type (x))\n",
    "print(type (x.values))\n",
    "for i,j in x.values:\n",
    "    print(\"age %d, sex %s\" % (i,j))"
   ]
  },
  {
   "cell_type": "code",
   "execution_count": 175,
   "metadata": {},
   "outputs": [
    {
     "data": {
      "text/plain": [
       "Sex\n",
       "female    28.687088\n",
       "male      30.585228\n",
       "Name: Age, dtype: float64"
      ]
     },
     "execution_count": 175,
     "metadata": {},
     "output_type": "execute_result"
    }
   ],
   "source": [
    "df.Age.groupby(df.Sex).mean()"
   ]
  },
  {
   "cell_type": "code",
   "execution_count": null,
   "metadata": {},
   "outputs": [],
   "source": []
  },
  {
   "cell_type": "code",
   "execution_count": 176,
   "metadata": {},
   "outputs": [
    {
     "data": {
      "text/plain": [
       "male      843\n",
       "female    466\n",
       "Name: Sex, dtype: int64"
      ]
     },
     "execution_count": 176,
     "metadata": {},
     "output_type": "execute_result"
    }
   ],
   "source": [
    "df.Sex.value_counts()"
   ]
  },
  {
   "cell_type": "markdown",
   "metadata": {},
   "source": [
    "Um einen ersten Eindruck von den vorliegenden Daten zu beokmmen sowie die Möglichkeiten des DataFrame Objektes kennen zu lernen untersuchen Sie bitte die folgenden Fragestellungen: "
   ]
  },
  {
   "cell_type": "markdown",
   "metadata": {},
   "source": [
    "1.) Wie Umfangreich ist der Titanic Datensatz? Wieviel Merkmale (Spalten) bzw. Objekte (Datenreihen) liegen vor?"
   ]
  },
  {
   "cell_type": "code",
   "execution_count": 177,
   "metadata": {
    "scrolled": true
   },
   "outputs": [
    {
     "name": "stdout",
     "output_type": "stream",
     "text": [
      "<class 'pandas.core.frame.DataFrame'>\n",
      "RangeIndex: 1309 entries, 0 to 1308\n",
      "Data columns (total 13 columns):\n",
      " #   Column       Non-Null Count  Dtype  \n",
      "---  ------       --------------  -----  \n",
      " 0   PassengerId  1309 non-null   int64  \n",
      " 1   Survived     1309 non-null   int64  \n",
      " 2   Pclass       1309 non-null   int64  \n",
      " 3   Name         1309 non-null   object \n",
      " 4   Sex          1309 non-null   object \n",
      " 5   Age          1046 non-null   float64\n",
      " 6   SibSp        1309 non-null   int64  \n",
      " 7   Parch        1309 non-null   int64  \n",
      " 8   Ticket       1309 non-null   object \n",
      " 9   Fare         1308 non-null   float64\n",
      " 10  Cabin        295 non-null    object \n",
      " 11  Embarked     1307 non-null   object \n",
      " 12  Home-Dest    745 non-null    object \n",
      "dtypes: float64(2), int64(5), object(6)\n",
      "memory usage: 133.1+ KB\n"
     ]
    }
   ],
   "source": [
    "df.info()\n",
    "# 13 colums\n",
    "# 1309 entries\n",
    "# over all 13 * 1309"
   ]
  },
  {
   "cell_type": "markdown",
   "metadata": {},
   "source": [
    "2.) Wie sehen die ersten zehn Objekte aus? Was fällt Ihnen auf? Verstehen Sie die Bedeutung der Merkmale?\n"
   ]
  },
  {
   "cell_type": "code",
   "execution_count": 201,
   "metadata": {},
   "outputs": [
    {
     "name": "stdout",
     "output_type": "stream",
     "text": [
      "PassengerId 0     1\n",
      "1     2\n",
      "2     3\n",
      "3     4\n",
      "4     5\n",
      "5     6\n",
      "6     7\n",
      "7     8\n",
      "8     9\n",
      "9    10\n",
      "Name: PassengerId, dtype: int64\n",
      "Survived 0    1\n",
      "1    1\n",
      "2    0\n",
      "3    0\n",
      "4    0\n",
      "5    1\n",
      "6    1\n",
      "7    0\n",
      "8    1\n",
      "9    0\n",
      "Name: Survived, dtype: int64\n",
      "Pclass 0    1\n",
      "1    1\n",
      "2    1\n",
      "3    1\n",
      "4    1\n",
      "5    1\n",
      "6    1\n",
      "7    1\n",
      "8    1\n",
      "9    1\n",
      "Name: Pclass, dtype: int64\n",
      "Name 0                      Allen, Miss. Elisabeth Walton\n",
      "1                     Allison, Master. Hudson Trevor\n",
      "2                       Allison, Miss. Helen Loraine\n",
      "3               Allison, Mr. Hudson Joshua Creighton\n",
      "4    Allison, Mrs. Hudson J C (Bessie Waldo Daniels)\n",
      "5                                Anderson, Mr. Harry\n",
      "6                  Andrews, Miss. Kornelia Theodosia\n",
      "7                             Andrews, Mr. Thomas Jr\n",
      "8      Appleton, Mrs. Edward Dale (Charlotte Lamson)\n",
      "9                            Artagaveytia, Mr. Ramon\n",
      "Name: Name, dtype: object\n",
      "Sex 0    female\n",
      "1      male\n",
      "2    female\n",
      "3      male\n",
      "4    female\n",
      "5      male\n",
      "6    female\n",
      "7      male\n",
      "8    female\n",
      "9      male\n",
      "Name: Sex, dtype: object\n",
      "Age 0    29.00\n",
      "1     0.92\n",
      "2     2.00\n",
      "3    30.00\n",
      "4    25.00\n",
      "5    48.00\n",
      "6    63.00\n",
      "7    39.00\n",
      "8    53.00\n",
      "9    71.00\n",
      "Name: Age, dtype: float64\n",
      "SibSp 0    0\n",
      "1    1\n",
      "2    1\n",
      "3    1\n",
      "4    1\n",
      "5    0\n",
      "6    1\n",
      "7    0\n",
      "8    2\n",
      "9    0\n",
      "Name: SibSp, dtype: int64\n",
      "Parch 0    0\n",
      "1    2\n",
      "2    2\n",
      "3    2\n",
      "4    2\n",
      "5    0\n",
      "6    0\n",
      "7    0\n",
      "8    0\n",
      "9    0\n",
      "Name: Parch, dtype: int64\n",
      "Ticket 0       24160\n",
      "1      113781\n",
      "2      113781\n",
      "3      113781\n",
      "4      113781\n",
      "5       19952\n",
      "6       13502\n",
      "7      112050\n",
      "8       11769\n",
      "9    PC 17609\n",
      "Name: Ticket, dtype: object\n",
      "Fare 0    211.3375\n",
      "1    151.5500\n",
      "2    151.5500\n",
      "3    151.5500\n",
      "4    151.5500\n",
      "5     26.5500\n",
      "6     77.9583\n",
      "7      0.0000\n",
      "8     51.4792\n",
      "9     49.5042\n",
      "Name: Fare, dtype: float64\n",
      "Cabin 0         B5\n",
      "1    C22 C26\n",
      "2    C22 C26\n",
      "3    C22 C26\n",
      "4    C22 C26\n",
      "5        E12\n",
      "6         D7\n",
      "7        A36\n",
      "8       C101\n",
      "9        NaN\n",
      "Name: Cabin, dtype: object\n",
      "Embarked 0    S\n",
      "1    S\n",
      "2    S\n",
      "3    S\n",
      "4    S\n",
      "5    S\n",
      "6    S\n",
      "7    S\n",
      "8    S\n",
      "9    C\n",
      "Name: Embarked, dtype: object\n",
      "Home-Dest 0                       St Louis, MO\n",
      "1    Montreal, PQ / Chesterville, ON\n",
      "2    Montreal, PQ / Chesterville, ON\n",
      "3    Montreal, PQ / Chesterville, ON\n",
      "4    Montreal, PQ / Chesterville, ON\n",
      "5                       New York, NY\n",
      "6                         Hudson, NY\n",
      "7                        Belfast, NI\n",
      "8                Bayside, Queens, NY\n",
      "9                Montevideo, Uruguay\n",
      "Name: Home-Dest, dtype: object\n"
     ]
    },
    {
     "data": {
      "text/html": [
       "<div>\n",
       "<style scoped>\n",
       "    .dataframe tbody tr th:only-of-type {\n",
       "        vertical-align: middle;\n",
       "    }\n",
       "\n",
       "    .dataframe tbody tr th {\n",
       "        vertical-align: top;\n",
       "    }\n",
       "\n",
       "    .dataframe thead th {\n",
       "        text-align: right;\n",
       "    }\n",
       "</style>\n",
       "<table border=\"1\" class=\"dataframe\">\n",
       "  <thead>\n",
       "    <tr style=\"text-align: right;\">\n",
       "      <th></th>\n",
       "      <th>PassengerId</th>\n",
       "      <th>Survived</th>\n",
       "      <th>Pclass</th>\n",
       "      <th>Age</th>\n",
       "      <th>SibSp</th>\n",
       "      <th>Parch</th>\n",
       "      <th>Fare</th>\n",
       "    </tr>\n",
       "  </thead>\n",
       "  <tbody>\n",
       "    <tr>\n",
       "      <th>count</th>\n",
       "      <td>1309.000000</td>\n",
       "      <td>1309.000000</td>\n",
       "      <td>1309.000000</td>\n",
       "      <td>1309.000000</td>\n",
       "      <td>1309.000000</td>\n",
       "      <td>1309.000000</td>\n",
       "      <td>1308.000000</td>\n",
       "    </tr>\n",
       "    <tr>\n",
       "      <th>mean</th>\n",
       "      <td>655.000000</td>\n",
       "      <td>0.381971</td>\n",
       "      <td>2.294882</td>\n",
       "      <td>32.316020</td>\n",
       "      <td>0.498854</td>\n",
       "      <td>0.385027</td>\n",
       "      <td>33.295479</td>\n",
       "    </tr>\n",
       "    <tr>\n",
       "      <th>std</th>\n",
       "      <td>378.020061</td>\n",
       "      <td>0.486055</td>\n",
       "      <td>0.837836</td>\n",
       "      <td>13.768589</td>\n",
       "      <td>1.041658</td>\n",
       "      <td>0.865560</td>\n",
       "      <td>51.758668</td>\n",
       "    </tr>\n",
       "    <tr>\n",
       "      <th>min</th>\n",
       "      <td>1.000000</td>\n",
       "      <td>0.000000</td>\n",
       "      <td>1.000000</td>\n",
       "      <td>0.170000</td>\n",
       "      <td>0.000000</td>\n",
       "      <td>0.000000</td>\n",
       "      <td>0.000000</td>\n",
       "    </tr>\n",
       "    <tr>\n",
       "      <th>25%</th>\n",
       "      <td>328.000000</td>\n",
       "      <td>0.000000</td>\n",
       "      <td>2.000000</td>\n",
       "      <td>22.000000</td>\n",
       "      <td>0.000000</td>\n",
       "      <td>0.000000</td>\n",
       "      <td>7.895800</td>\n",
       "    </tr>\n",
       "    <tr>\n",
       "      <th>50%</th>\n",
       "      <td>655.000000</td>\n",
       "      <td>0.000000</td>\n",
       "      <td>3.000000</td>\n",
       "      <td>32.000000</td>\n",
       "      <td>0.000000</td>\n",
       "      <td>0.000000</td>\n",
       "      <td>14.454200</td>\n",
       "    </tr>\n",
       "    <tr>\n",
       "      <th>75%</th>\n",
       "      <td>982.000000</td>\n",
       "      <td>1.000000</td>\n",
       "      <td>3.000000</td>\n",
       "      <td>42.000000</td>\n",
       "      <td>1.000000</td>\n",
       "      <td>0.000000</td>\n",
       "      <td>31.275000</td>\n",
       "    </tr>\n",
       "    <tr>\n",
       "      <th>max</th>\n",
       "      <td>1309.000000</td>\n",
       "      <td>1.000000</td>\n",
       "      <td>3.000000</td>\n",
       "      <td>80.000000</td>\n",
       "      <td>8.000000</td>\n",
       "      <td>9.000000</td>\n",
       "      <td>512.329200</td>\n",
       "    </tr>\n",
       "  </tbody>\n",
       "</table>\n",
       "</div>"
      ],
      "text/plain": [
       "       PassengerId     Survived       Pclass          Age        SibSp  \\\n",
       "count  1309.000000  1309.000000  1309.000000  1309.000000  1309.000000   \n",
       "mean    655.000000     0.381971     2.294882    32.316020     0.498854   \n",
       "std     378.020061     0.486055     0.837836    13.768589     1.041658   \n",
       "min       1.000000     0.000000     1.000000     0.170000     0.000000   \n",
       "25%     328.000000     0.000000     2.000000    22.000000     0.000000   \n",
       "50%     655.000000     0.000000     3.000000    32.000000     0.000000   \n",
       "75%     982.000000     1.000000     3.000000    42.000000     1.000000   \n",
       "max    1309.000000     1.000000     3.000000    80.000000     8.000000   \n",
       "\n",
       "             Parch         Fare  \n",
       "count  1309.000000  1308.000000  \n",
       "mean      0.385027    33.295479  \n",
       "std       0.865560    51.758668  \n",
       "min       0.000000     0.000000  \n",
       "25%       0.000000     7.895800  \n",
       "50%       0.000000    14.454200  \n",
       "75%       0.000000    31.275000  \n",
       "max       9.000000   512.329200  "
      ]
     },
     "execution_count": 201,
     "metadata": {},
     "output_type": "execute_result"
    }
   ],
   "source": [
    "for key , value in df[0:10].iteritems():\n",
    "    print(key, value)\n",
    "df.head(10)\n",
    "df.describe()\n",
    "# Unterschiedlich viele Einträge 1309 and some 1046\n",
    "# unterschiedliche Datentypen\n",
    "\n"
   ]
  },
  {
   "cell_type": "markdown",
   "metadata": {},
   "source": [
    "3.) Welche Datentypen haben die einzelnen Merkmale?"
   ]
  },
  {
   "cell_type": "code",
   "execution_count": 239,
   "metadata": {},
   "outputs": [
    {
     "name": "stdout",
     "output_type": "stream",
     "text": [
      "PassengerId int64\n",
      "Survived int64\n",
      "Pclass int64\n",
      "Name object\n",
      "Sex object\n",
      "Age float64\n",
      "SibSp int64\n",
      "Parch int64\n",
      "Ticket object\n",
      "Fare float64\n",
      "Cabin object\n",
      "Embarked object\n",
      "Home-Dest object\n"
     ]
    }
   ],
   "source": [
    "\"\"\"\n",
    "0   PassengerId  1309 non-null   int64  \n",
    " 1   Survived     1309 non-null   int64  \n",
    " 2   Pclass       1309 non-null   int64  \n",
    " 3   Name         1309 non-null   object \n",
    " 4   Sex          1309 non-null   object \n",
    " 5   Age          1046 non-null   float64\n",
    " 6   SibSp        1309 non-null   int64  \n",
    " 7   Parch        1309 non-null   int64  \n",
    " 8   Ticket       1309 non-null   object \n",
    " 9   Fare         1308 non-null   float64\n",
    " 10  Cabin        295 non-null    object \n",
    " 11  Embarked     1307 non-null   object \n",
    " 12  Home-Dest    745 non-null    object\n",
    "\"\"\"\n",
    "\n",
    "\"\"\"\n",
    "for x,y in df[0:3].iterrows():\n",
    "    print(x,y)\n",
    "\n",
    "for key, value in df[0:3].iteritems():\n",
    "    print(key, value)\n",
    "\"\"\"\n",
    "for key , value in df.iteritems():\n",
    "    print(key, value.dtype)\n"
   ]
  },
  {
   "cell_type": "markdown",
   "metadata": {},
   "source": [
    "4.) Welche Merkmale sind quantitativ, welche sind qualitativ?\n",
    "\n",
    "<b>Quantitative Merkmale</b>:  intervallskalierte metrische Werte, z.B. Körpergewicht, Einkommen. \n",
    "Für diese Merkmale können verschiedene mathematische Rechenoperationen durchgeführt werden, wie zum Beispiel die Errechnung eines Durchschnitts <br>\n",
    "\n",
    "<b>Qualitative Merkmale</b>:  Merkmale lassen sich eindeutig in Kategorien unterscheiden, diese Unterteilung besitzt jedoch keinen mathematischen Wert, z.B. Geschlecht, Religionszugehörigkeit. Für diese Merkmale kann lediglich ein Befragungsergebnis in Anteilen (x von 100%) wiedergegeben werden <br>\n",
    "\n",
    "<b>Beispiel aus dem Skript</b>:\n",
    "\n",
    "| Merkmal    | Wert                  | Typ |\n",
    "|:-----------|:----------------------|-------|\n",
    "| goldEarned | 15 Stk.               | Quantitativ |\n",
    "| kills      | 11 Stk.               | Quantitativ |\n",
    "| championId | 4312234               | Qualitativ |\n",
    "| lane       | {bootom, middle, top} | Qualitativ |\n",
    "| role       | {duo, solo, support}  | Qualitativ |"
   ]
  },
  {
   "cell_type": "code",
   "execution_count": 250,
   "metadata": {},
   "outputs": [
    {
     "name": "stdout",
     "output_type": "stream",
     "text": [
      "PassengerId Quantitative Merkmale\n",
      "Survived Quantitative Merkmale\n",
      "Pclass Quantitative Merkmale\n",
      "Name Qualitatives Merkmale\n",
      "Sex Qualitatives Merkmale\n",
      "Age Quantitative Merkmale\n",
      "SibSp Quantitative Merkmale\n",
      "Parch Quantitative Merkmale\n",
      "Ticket Qualitatives Merkmale\n",
      "Fare Quantitative Merkmale\n",
      "Cabin Qualitatives Merkmale\n",
      "Embarked Qualitatives Merkmale\n",
      "Home-Dest Qualitatives Merkmale\n"
     ]
    }
   ],
   "source": [
    "#int and float -> Quantitative Merkmale\n",
    "#object -> Qualitative Merkmale\n",
    "\n",
    "for key , value in df.iteritems():\n",
    "    if value.dtype == \"int64\" or value.dtype == \"float64\":\n",
    "        print(key, \"Quantitative Merkmale\")\n",
    "    if value.dtype == \"object\":\n",
    "        print(key, \"Qualitatives Merkmale\")\n"
   ]
  },
  {
   "cell_type": "markdown",
   "metadata": {},
   "source": [
    "5.) Wieviel Prozent der Passagiere haben das Unglück überlebt?"
   ]
  },
  {
   "cell_type": "code",
   "execution_count": 237,
   "metadata": {},
   "outputs": [
    {
     "name": "stdout",
     "output_type": "stream",
     "text": [
      "0.3819709702062643\n",
      "38.2 Prozent haben überlebt\n"
     ]
    }
   ],
   "source": [
    "summe = 0\n",
    "\n",
    "s = df[\"Survived\"]\n",
    "for j in s:\n",
    "    summe += j\n",
    "prozent = summe/ len(df[\"Survived\"])\n",
    "print(prozent)\n",
    "print(\"{} Prozent haben überlebt\".format(round(prozent*100,2)))\n"
   ]
  },
  {
   "cell_type": "markdown",
   "metadata": {},
   "source": [
    "6.) Wieviel Prozent der Überlebenden waren Frauen?"
   ]
  },
  {
   "cell_type": "code",
   "execution_count": 286,
   "metadata": {},
   "outputs": [
    {
     "name": "stdout",
     "output_type": "stream",
     "text": [
      "1 female\n",
      "1 male\n",
      "1 male\n",
      "1 female\n",
      "1 female\n",
      "1 female\n",
      "1 female\n",
      "1 female\n",
      "1 male\n",
      "1 female\n",
      "1 female\n",
      "1 male\n",
      "1 female\n",
      "1 male\n",
      "1 female\n",
      "1 female\n",
      "1 male\n",
      "1 female\n",
      "1 female\n",
      "1 male\n",
      "1 male\n",
      "1 female\n",
      "1 female\n",
      "1 female\n",
      "1 female\n",
      "1 male\n",
      "1 female\n",
      "1 female\n",
      "1 female\n",
      "1 female\n",
      "1 male\n",
      "1 female\n",
      "1 male\n",
      "1 female\n",
      "1 male\n",
      "1 female\n",
      "1 male\n",
      "1 female\n",
      "1 female\n",
      "1 female\n",
      "1 female\n",
      "1 male\n",
      "1 female\n",
      "1 female\n",
      "1 female\n",
      "1 male\n",
      "1 female\n",
      "1 female\n",
      "1 female\n",
      "1 female\n",
      "1 female\n",
      "1 female\n",
      "1 female\n",
      "1 female\n",
      "1 female\n",
      "1 male\n",
      "1 male\n",
      "1 female\n",
      "1 female\n",
      "1 male\n",
      "1 female\n",
      "1 male\n",
      "1 male\n",
      "1 female\n",
      "1 female\n",
      "1 female\n",
      "1 female\n",
      "1 male\n",
      "1 female\n",
      "1 female\n",
      "1 female\n",
      "1 female\n",
      "1 female\n",
      "1 male\n",
      "1 female\n",
      "1 female\n",
      "1 female\n",
      "1 female\n",
      "1 female\n",
      "1 male\n",
      "1 male\n",
      "1 female\n",
      "1 female\n",
      "1 male\n",
      "1 female\n",
      "1 female\n",
      "1 female\n",
      "1 female\n",
      "1 female\n",
      "1 male\n",
      "1 female\n",
      "1 male\n",
      "1 female\n",
      "1 female\n",
      "1 male\n",
      "1 female\n",
      "1 male\n",
      "1 female\n",
      "1 male\n",
      "1 female\n",
      "1 female\n",
      "1 male\n",
      "1 male\n",
      "1 female\n",
      "1 female\n",
      "1 female\n",
      "1 female\n",
      "1 female\n",
      "1 female\n",
      "1 male\n",
      "1 male\n",
      "1 female\n",
      "1 female\n",
      "1 male\n",
      "1 female\n",
      "1 male\n",
      "1 female\n",
      "1 female\n",
      "1 female\n",
      "1 female\n",
      "1 male\n",
      "1 female\n",
      "1 female\n",
      "1 female\n",
      "1 female\n",
      "1 female\n",
      "1 female\n",
      "1 female\n",
      "1 male\n",
      "1 female\n",
      "1 female\n",
      "1 male\n",
      "1 female\n",
      "1 female\n",
      "1 female\n",
      "1 male\n",
      "1 female\n",
      "1 female\n",
      "1 female\n",
      "1 female\n",
      "1 male\n",
      "1 female\n",
      "1 female\n",
      "1 female\n",
      "1 female\n",
      "1 male\n",
      "1 female\n",
      "1 male\n",
      "1 female\n",
      "1 male\n",
      "1 female\n",
      "1 female\n",
      "1 female\n",
      "1 male\n",
      "1 female\n",
      "1 female\n",
      "1 female\n",
      "1 male\n",
      "1 female\n",
      "1 male\n",
      "1 female\n",
      "1 female\n",
      "1 male\n",
      "1 female\n",
      "1 male\n",
      "1 female\n",
      "1 male\n",
      "1 male\n",
      "1 female\n",
      "1 male\n",
      "1 female\n",
      "1 male\n",
      "1 male\n",
      "1 female\n",
      "1 female\n",
      "1 male\n",
      "1 male\n",
      "1 female\n",
      "1 female\n",
      "1 female\n",
      "1 female\n",
      "1 female\n",
      "1 female\n",
      "1 male\n",
      "1 female\n",
      "1 male\n",
      "1 female\n",
      "1 female\n",
      "1 male\n",
      "1 female\n",
      "1 female\n",
      "1 female\n",
      "1 female\n",
      "1 female\n",
      "1 female\n",
      "1 female\n",
      "1 male\n",
      "1 female\n",
      "1 male\n",
      "1 female\n",
      "1 female\n",
      "1 female\n",
      "1 female\n",
      "1 male\n",
      "1 female\n",
      "1 male\n",
      "1 female\n",
      "1 female\n",
      "1 female\n",
      "1 male\n",
      "1 female\n",
      "1 female\n",
      "1 female\n",
      "1 female\n",
      "1 female\n",
      "1 female\n",
      "1 female\n",
      "1 male\n",
      "1 male\n",
      "1 female\n",
      "1 female\n",
      "1 female\n",
      "1 female\n",
      "1 female\n",
      "1 male\n",
      "1 female\n",
      "1 female\n",
      "1 female\n",
      "1 male\n",
      "1 female\n",
      "1 female\n",
      "1 female\n",
      "1 female\n",
      "1 female\n",
      "1 male\n",
      "1 female\n",
      "1 female\n",
      "1 female\n",
      "1 female\n",
      "1 female\n",
      "1 male\n",
      "1 female\n",
      "1 female\n",
      "1 male\n",
      "1 female\n",
      "1 female\n",
      "1 female\n",
      "1 female\n",
      "1 female\n",
      "1 female\n",
      "1 female\n",
      "1 female\n",
      "1 female\n",
      "1 male\n",
      "1 female\n",
      "1 female\n",
      "1 female\n",
      "1 female\n",
      "1 female\n",
      "1 female\n",
      "1 female\n",
      "1 female\n",
      "1 female\n",
      "1 female\n",
      "1 female\n",
      "1 female\n",
      "1 female\n",
      "1 male\n",
      "1 female\n",
      "1 female\n",
      "1 female\n",
      "1 male\n",
      "1 female\n",
      "1 male\n",
      "1 male\n",
      "1 male\n",
      "1 female\n",
      "1 male\n",
      "1 male\n",
      "1 male\n",
      "1 female\n",
      "1 female\n",
      "1 female\n",
      "1 female\n",
      "1 male\n",
      "1 female\n",
      "1 female\n",
      "1 female\n",
      "1 female\n",
      "1 female\n",
      "1 male\n",
      "1 male\n",
      "1 female\n",
      "1 female\n",
      "1 female\n",
      "1 female\n",
      "1 female\n",
      "1 female\n",
      "1 female\n",
      "1 female\n",
      "1 female\n",
      "1 female\n",
      "1 female\n",
      "1 female\n",
      "1 female\n",
      "1 female\n",
      "1 female\n",
      "1 female\n",
      "1 female\n",
      "1 female\n",
      "1 male\n",
      "1 female\n",
      "1 female\n",
      "1 female\n",
      "1 female\n",
      "1 female\n",
      "1 male\n",
      "1 male\n",
      "1 female\n",
      "1 female\n",
      "1 female\n",
      "1 male\n",
      "1 male\n",
      "1 female\n",
      "1 male\n",
      "1 female\n",
      "1 male\n",
      "1 female\n",
      "1 female\n",
      "1 male\n",
      "1 male\n",
      "1 female\n",
      "1 male\n",
      "1 female\n",
      "1 female\n",
      "1 female\n",
      "1 female\n",
      "1 female\n",
      "1 female\n",
      "1 female\n",
      "1 female\n",
      "1 female\n",
      "1 male\n",
      "1 male\n",
      "1 female\n",
      "1 male\n",
      "1 female\n",
      "1 male\n",
      "1 male\n",
      "1 female\n",
      "1 male\n",
      "1 male\n",
      "1 female\n",
      "1 female\n",
      "1 male\n",
      "1 female\n",
      "1 male\n",
      "1 female\n",
      "1 male\n",
      "1 female\n",
      "1 male\n",
      "1 male\n",
      "1 female\n",
      "1 female\n",
      "1 female\n",
      "1 male\n",
      "1 female\n",
      "1 female\n",
      "1 male\n",
      "1 female\n",
      "1 female\n",
      "1 male\n",
      "1 male\n",
      "1 female\n",
      "1 female\n",
      "1 male\n",
      "1 female\n",
      "1 female\n",
      "1 female\n",
      "1 female\n",
      "1 male\n",
      "1 male\n",
      "1 female\n",
      "1 female\n",
      "1 female\n",
      "1 female\n",
      "1 female\n",
      "1 female\n",
      "1 male\n",
      "1 male\n",
      "1 male\n",
      "1 female\n",
      "1 male\n",
      "1 male\n",
      "1 male\n",
      "1 female\n",
      "1 female\n",
      "1 male\n",
      "1 male\n",
      "1 male\n",
      "1 female\n",
      "1 male\n",
      "1 female\n",
      "1 female\n",
      "1 male\n",
      "1 female\n",
      "1 male\n",
      "1 female\n",
      "1 male\n",
      "1 male\n",
      "1 female\n",
      "1 male\n",
      "1 male\n",
      "1 male\n",
      "1 male\n",
      "1 female\n",
      "1 male\n",
      "1 female\n",
      "1 male\n",
      "1 male\n",
      "1 female\n",
      "1 female\n",
      "1 female\n",
      "1 male\n",
      "1 female\n",
      "1 female\n",
      "1 male\n",
      "1 female\n",
      "1 female\n",
      "1 female\n",
      "1 male\n",
      "1 female\n",
      "1 male\n",
      "1 female\n",
      "1 female\n",
      "1 male\n",
      "1 male\n",
      "1 male\n",
      "1 female\n",
      "1 female\n",
      "1 female\n",
      "1 female\n",
      "1 female\n",
      "1 female\n",
      "1 female\n",
      "1 female\n",
      "1 female\n",
      "1 male\n",
      "1 female\n",
      "1 male\n",
      "1 female\n",
      "1 female\n",
      "1 female\n",
      "1 male\n",
      "1 female\n",
      "1 female\n",
      "1 female\n",
      "1 female\n",
      "1 female\n",
      "1 male\n",
      "1 female\n",
      "1 male\n",
      "1 male\n",
      "1 female\n",
      "1 male\n",
      "1 male\n",
      "1 female\n",
      "1 female\n",
      "1 male\n",
      "1 female\n",
      "1 female\n",
      "1 male\n",
      "1 female\n",
      "1 female\n",
      "1 female\n",
      "1 female\n",
      "1 male\n",
      "1 male\n",
      "1 female\n",
      "1 female\n",
      "1 female\n",
      "1 female\n",
      "1 male\n",
      "1 male\n",
      "1 male\n",
      "1 male\n",
      "1 male\n",
      "1 male\n",
      "1 female\n",
      "1 female\n",
      "1 male\n",
      "1 male\n",
      "1 female\n",
      "1 female\n",
      "1 female\n",
      "1 female\n",
      "1 male\n",
      "1 female\n",
      "1 female\n",
      "1 female\n",
      "0.678\n",
      "67.8 Prozent der Frauen haben überlebt\n"
     ]
    }
   ],
   "source": [
    "x = df[['Survived','Sex']][df.Survived == 1]\n",
    "#print(x)\n",
    "summe = 0\n",
    "for i,j in x.values:\n",
    "    print(i,j)\n",
    "    if j == \"female\":\n",
    "        summe += 1\n",
    "        \n",
    "\n",
    "prozent = summe/ len(x[\"Survived\"])\n",
    "print(prozent)\n",
    "print(\"{} Prozent der Überlebten waren Frauen\".format(round(prozent*100,2)))"
   ]
  },
  {
   "cell_type": "markdown",
   "metadata": {},
   "source": [
    "7.) Ermitteln Sie jeweils den Mittelwert des Alters für die folgenden Gruppen:"
   ]
  },
  {
   "cell_type": "markdown",
   "metadata": {},
   "source": [
    "7.a) für alle Passagiere"
   ]
  },
  {
   "cell_type": "code",
   "execution_count": 293,
   "metadata": {},
   "outputs": [
    {
     "data": {
      "text/plain": [
       "32.31601986249045"
      ]
     },
     "execution_count": 293,
     "metadata": {},
     "output_type": "execute_result"
    }
   ],
   "source": [
    "df.Age.mean()"
   ]
  },
  {
   "cell_type": "markdown",
   "metadata": {},
   "source": [
    "7.b) getrennt nach Geschlecht"
   ]
  },
  {
   "cell_type": "code",
   "execution_count": 184,
   "metadata": {},
   "outputs": [],
   "source": [
    "df.Age.groupby(df.Sex).mean()"
   ]
  },
  {
   "cell_type": "markdown",
   "metadata": {},
   "source": [
    "7.c) für alle Überlebenden"
   ]
  },
  {
   "cell_type": "code",
   "execution_count": 294,
   "metadata": {},
   "outputs": [
    {
     "data": {
      "text/plain": [
       "Survived\n",
       "0    33.235575\n",
       "1    30.828180\n",
       "Name: Age, dtype: float64"
      ]
     },
     "execution_count": 294,
     "metadata": {},
     "output_type": "execute_result"
    }
   ],
   "source": [
    "df.Age.groupby(df.Survived).mean()"
   ]
  },
  {
   "cell_type": "markdown",
   "metadata": {},
   "source": [
    "7.d) für alle Frauen welche überlebt haben"
   ]
  },
  {
   "cell_type": "code",
   "execution_count": 306,
   "metadata": {},
   "outputs": [
    {
     "data": {
      "text/plain": [
       "Sex     Survived\n",
       "female  0           29.342520\n",
       "        1           31.504690\n",
       "male    0           33.960528\n",
       "        1           29.403727\n",
       "Name: Age, dtype: float64"
      ]
     },
     "execution_count": 306,
     "metadata": {},
     "output_type": "execute_result"
    }
   ],
   "source": [
    "df.Age.groupby(by=[df.Sex , df.Survived]).mean()"
   ]
  },
  {
   "cell_type": "markdown",
   "metadata": {},
   "source": [
    "7.e) für alle Frauen welche überlebt haben, gruppiert nach der Passagier Klasse (Pclass)"
   ]
  },
  {
   "cell_type": "code",
   "execution_count": 312,
   "metadata": {},
   "outputs": [
    {
     "data": {
      "text/plain": [
       "Pclass\n",
       "1    37.496403\n",
       "2    27.036383\n",
       "3    27.610094\n",
       "Name: Age, dtype: float64"
      ]
     },
     "execution_count": 312,
     "metadata": {},
     "output_type": "execute_result"
    }
   ],
   "source": [
    "x = df.Age.groupby(by=[df.Sex, df.Survived,df.Pclass]).mean()\n",
    "x[\"female\"][1]"
   ]
  },
  {
   "cell_type": "markdown",
   "metadata": {},
   "source": [
    "7.f) für alle Frauen welche nicht überlebt haben, gruppiert nach der Passagier Klasse (Pclass)"
   ]
  },
  {
   "cell_type": "code",
   "execution_count": 313,
   "metadata": {},
   "outputs": [
    {
     "data": {
      "text/plain": [
       "Pclass\n",
       "1    35.200000\n",
       "2    34.750000\n",
       "3    28.486364\n",
       "Name: Age, dtype: float64"
      ]
     },
     "execution_count": 313,
     "metadata": {},
     "output_type": "execute_result"
    }
   ],
   "source": [
    "x = df.Age.groupby(by=[df.Sex, df.Survived,df.Pclass]).mean()\n",
    "x[\"female\"][0]"
   ]
  },
  {
   "cell_type": "markdown",
   "metadata": {},
   "source": [
    "## 2.) Vorverarbeitung - Imputation (Statistik) - Datenlücken interpolieren\n",
    "Wie Sie vielleicht schon bei der ersten Aufgabe bemerkt haben, fehlen einzelne Merkmalsausprägungen im vorliegenden Datensatz (NaN-Werte). Dies ist in sofern problematisch da je nach Verfahren, unter Umständen die ganze Datenreihe nicht mehr weiter verarbeitet werden kann. Im vorliegenden Datensatz fehlen Werte in den Merkmalen 'Age' sowie 'Cabin' (siehe df.info()). Da beim Merkmal Cabin nur 204 Einträge vorliegen ist es hier sehr schwer die fehlenden Ausprägungen zu interpolieren. Wir konzentrieren uns daher vorerst auf das Alter, da hier eine größere Datenmenge vorliegt.\n",
    "\n",
    "Vervollständigen sie die Datenlücken in der Spalte 'Age'. Nutzen Sie dabei Wissen aus den vorliegenden Daten um die einzelnen Datenreihen zuverlässig zu vervollständigen. Es bietet sich an diesen Schritt in eine Funktion auszulagern. Überprüfen Sie Ihr Ergebniss."
   ]
  },
  {
   "cell_type": "code",
   "execution_count": 189,
   "metadata": {},
   "outputs": [],
   "source": [
    "def prepareData(df):\n",
    "    #to set a selection of a data frame please dont use the chained [] operator, but the .loc operator\n",
    "    #(see http://pandas.pydata.org/pandas-docs/stable/indexing.html#indexing-view-versus-copy for details)\n",
    "    \n",
    "    #minimal working example to set all null age values to 42 - probably you can do better :-)\n",
    "    df.loc[df.Age.isnull(),'Age'] = 42\n",
    "    return df\n",
    "    \n",
    "df = prepareData(df)"
   ]
  },
  {
   "cell_type": "markdown",
   "metadata": {},
   "source": [
    "Erzeugen Sie einen 'Vorher-Nachher'-Plot bei dem Sie die Auswirkungen Ihrer Imputationsmaßnahmen darstellen. Argumentieren und bewerten Sie ihre Maßnahmen.  \n"
   ]
  },
  {
   "cell_type": "markdown",
   "metadata": {},
   "source": [
    "## 3.) Visualisierung"
   ]
  },
  {
   "cell_type": "markdown",
   "metadata": {},
   "source": [
    "Um Zusammenhänge in Daten verstehen zu können, ist es essentiell die Daten zu visualisieren. Nutzen sie für die folgende Aufgabe die python Bibliothek matplotlib (siehe http://matplotlib.org/users/pyplot_tutorial.html). Da uns unsere Daten als padas DataFrame vorliegen, ist es für die einfacheren plots komfortabler die von pandas zur Verfügung gestellten wrapper methoden zu nutzen (siehe http://pandas.pydata.org/pandas-docs/stable/visualization.html).\n",
    "\n",
    "\n",
    "1.) Visualisieren Sie die absolute Verteilung der Überlebenden anhand eines Barplots. (Tipp: plt.hist(..) oder df.Survived.hist())"
   ]
  },
  {
   "cell_type": "code",
   "execution_count": 190,
   "metadata": {},
   "outputs": [],
   "source": [
    "# TODO implement"
   ]
  },
  {
   "cell_type": "markdown",
   "metadata": {},
   "source": [
    "2.) Visualisieren Sie die Anzahl der Passagiere in der jeweiligen Klasse (Pclass)"
   ]
  },
  {
   "cell_type": "code",
   "execution_count": 191,
   "metadata": {},
   "outputs": [],
   "source": [
    "# TODO implement"
   ]
  },
  {
   "cell_type": "markdown",
   "metadata": {},
   "source": [
    "3.) Visualisieren Sie die Verteilung des Alters pro Geschlecht als Histogramm. "
   ]
  },
  {
   "cell_type": "code",
   "execution_count": 192,
   "metadata": {},
   "outputs": [],
   "source": [
    "# TODO implement"
   ]
  },
  {
   "cell_type": "markdown",
   "metadata": {},
   "source": [
    "4.) Visualisiern Sie die Verteilung des Alters pro Klasse als Wahrscheinlichkeitsdichte. Stellen Sie die Graphen gemeinsam in einem Plot dar (Tipp: plot(kind='density'), möglicherweise müssen sie hier das Python-Paket *scipy* nachinstallieren)."
   ]
  },
  {
   "cell_type": "code",
   "execution_count": 193,
   "metadata": {},
   "outputs": [],
   "source": [
    "# TODO implement"
   ]
  },
  {
   "cell_type": "markdown",
   "metadata": {},
   "source": [
    " 5) Visualisieren Sie den Zusammenhang zwischen dem Alter und dem Ticketpreis in einem scatter plot. Interpretieren Sie das Resultat."
   ]
  },
  {
   "cell_type": "code",
   "execution_count": 194,
   "metadata": {},
   "outputs": [],
   "source": [
    "# TODO implement"
   ]
  },
  {
   "cell_type": "markdown",
   "metadata": {},
   "source": [
    "In den bisherigen Plots haben wir einzelne Merkmale unabhängig der Klassenzugehörigkeiten 'Surived' dargestellt. Um die vorliegenden Daten besser zu verstehen und trennungswirksame Merkmale zu identifizieren soll nun untersucht werden wie sich die einzelnen Merkmale in Bezug auf die später vorherzusagende Klasse verhalten.\n",
    "\n",
    "6) Untersuchen Sie die Korrelation zwischen dem Geschlecht und den Überleben der Katastrophe. Erstellen Sie eine oder mehrere geeignete Visualisierung(en) und interpretieren Sie diese.\n"
   ]
  },
  {
   "cell_type": "code",
   "execution_count": 195,
   "metadata": {},
   "outputs": [],
   "source": [
    "# TODO implement"
   ]
  },
  {
   "cell_type": "markdown",
   "metadata": {},
   "source": [
    "7) Untersuchen Sie die Korrelation zwischen dem Alter und den Überleben der Katastrophe. Erstellen Sie eine geeignete Visualisierung und interpretieren Sie diese."
   ]
  },
  {
   "cell_type": "code",
   "execution_count": 196,
   "metadata": {},
   "outputs": [],
   "source": [
    "# TODO implement"
   ]
  },
  {
   "cell_type": "markdown",
   "metadata": {},
   "source": [
    "8) Untersuchen Sie die Korrelation zwischen Passagier Klasse und den Überleben der Katastrophe. Erstellen Sie eine oder mehrere geeignete Visualisierungen und interpretieren Sie diese."
   ]
  },
  {
   "cell_type": "code",
   "execution_count": 197,
   "metadata": {},
   "outputs": [],
   "source": [
    "# TODO implement"
   ]
  }
 ],
 "metadata": {
  "anaconda-cloud": {},
  "interpreter": {
   "hash": "bbd5b416a8e5619b29095f47e25a760d33ae8dd6ce65b6de92bb99b22668b00d"
  },
  "kernelspec": {
   "display_name": "Python 3.8.0 64-bit ('Tensorflow': conda)",
   "name": "python3"
  },
  "language_info": {
   "codemirror_mode": {
    "name": "ipython",
    "version": 3
   },
   "file_extension": ".py",
   "mimetype": "text/x-python",
   "name": "python",
   "nbconvert_exporter": "python",
   "pygments_lexer": "ipython3",
   "version": "3.8.0"
  }
 },
 "nbformat": 4,
 "nbformat_minor": 2
}
