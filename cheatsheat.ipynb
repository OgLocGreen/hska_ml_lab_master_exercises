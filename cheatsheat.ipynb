{
 "cells": [
  {
   "cell_type": "markdown",
   "source": [
    "### How to Import and read File"
   ],
   "metadata": {
    "collapsed": false,
    "pycharm": {
     "name": "#%% md\n"
    }
   }
  },
  {
   "cell_type": "code",
   "execution_count": 6,
   "metadata": {
    "collapsed": true
   },
   "outputs": [],
   "source": [
    "import pandas as pd\n",
    "\n",
    "DATA_FILE = './Data/original_titanic.csv'\n",
    "# TODO : implement\n",
    "df = None\n",
    "df = pd.read_csv(DATA_FILE, header=0)"
   ]
  },
  {
   "cell_type": "markdown",
   "source": [
    "### How to get to the right Value"
   ],
   "metadata": {
    "collapsed": false,
    "pycharm": {
     "name": "#%% md\n"
    }
   }
  },
  {
   "cell_type": "code",
   "execution_count": 7,
   "outputs": [
    {
     "data": {
      "text/plain": "'\\nprint(df)\\nprint(\"df.Sex\", df.Sex)\\nprint(\"df[\"\"Sex\"\"]\",df[\"Sex\"])\\nprint(\"df[[\"\"Sex\"\"]]\",df[[\"Sex\"]])\\nprint(\"df.iloc[0]\",df.iloc[0])\\nprint(\"df.iloc[0][\"\"sex\"\"]\",df.iloc[0][\"Sex\"])\\n'"
     },
     "execution_count": 7,
     "metadata": {},
     "output_type": "execute_result"
    }
   ],
   "source": [
    "\"\"\"\n",
    "print(df)\n",
    "print(\"df.Sex\", df.Sex)\n",
    "print(\"df[\"\"Sex\"\"]\",df[\"Sex\"])\n",
    "print(\"df[[\"\"Sex\"\"]]\",df[[\"Sex\"]])\n",
    "print(\"df.iloc[0]\",df.iloc[0])\n",
    "print(\"df.iloc[0][\"\"sex\"\"]\",df.iloc[0][\"Sex\"])\n",
    "\"\"\""
   ],
   "metadata": {
    "collapsed": false,
    "pycharm": {
     "name": "#%%\n"
    }
   }
  },
  {
   "cell_type": "markdown",
   "source": [
    "### Copying and Dropping None"
   ],
   "metadata": {
    "collapsed": false,
    "pycharm": {
     "name": "#%% md\n"
    }
   }
  },
  {
   "cell_type": "code",
   "execution_count": 8,
   "outputs": [
    {
     "name": "stdout",
     "output_type": "stream",
     "text": [
      "1309\n",
      "1046\n"
     ]
    }
   ],
   "source": [
    "print(len(df))\n",
    "df2 = df.copy()\n",
    "df2.dropna(subset = [\"Age\"], inplace=True)\n",
    "print(len(df2))"
   ],
   "metadata": {
    "collapsed": false,
    "pycharm": {
     "name": "#%%\n"
    }
   }
  },
  {
   "cell_type": "markdown",
   "source": [
    "### How to Sample and Iterate"
   ],
   "metadata": {
    "collapsed": false
   }
  },
  {
   "cell_type": "code",
   "execution_count": 9,
   "outputs": [
    {
     "name": "stdout",
     "output_type": "stream",
     "text": [
      "Will Bowerman, Miss. Elsie Edith Survived? 1\n",
      "Will Myhrman, Mr. Pehr Fabian Oliver Malkolm Survived? 0\n",
      "Will Baclini, Miss. Marie Catherine Survived? 1\n"
     ]
    }
   ],
   "source": [
    "sample = df2.sample(n= 3, random_state=1)\n",
    "for index, row in sample.iterrows():\n",
    "    print(\"Will\", row[\"Name\"], \"Survived?\", row[\"Survived\"])"
   ],
   "metadata": {
    "collapsed": false,
    "pycharm": {
     "name": "#%%\n"
    }
   }
  }
 ],
 "metadata": {
  "kernelspec": {
   "name": "pycharm-326914a4",
   "language": "python",
   "display_name": "PyCharm (hska_ml_lab_master_exercises)"
  },
  "language_info": {
   "codemirror_mode": {
    "name": "ipython",
    "version": 2
   },
   "file_extension": ".py",
   "mimetype": "text/x-python",
   "name": "python",
   "nbconvert_exporter": "python",
   "pygments_lexer": "ipython2",
   "version": "2.7.6"
  }
 },
 "nbformat": 4,
 "nbformat_minor": 0
}