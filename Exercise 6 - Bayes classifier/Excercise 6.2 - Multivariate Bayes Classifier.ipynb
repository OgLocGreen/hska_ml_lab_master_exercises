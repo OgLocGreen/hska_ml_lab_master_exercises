{
 "cells": [
  {
   "cell_type": "markdown",
   "metadata": {},
   "source": [
    "# Bayes mit multivarianter WDF\n",
    "In Aufgabe 2 haben wir einen (naiven) Bayes-Klassifikator unter der Annahme der Unabhängigkeit der einzelnen Merkmale entwickelt. In dieser Aufgabe sollen Sie das Bayes-Klassifikationsframework um eine multivarianten Wahrscheinlichkeitsdichtefunktionen zu erweitern.\n",
    "\n"
   ]
  },
  {
   "cell_type": "markdown",
   "metadata": {},
   "source": [
    "## 3.0) Vorbereitungen"
   ]
  },
  {
   "cell_type": "code",
   "execution_count": 1,
   "metadata": {},
   "outputs": [],
   "source": [
    "import numpy as np\n",
    "import csv as csv\n",
    "import matplotlib.pyplot as plt\n",
    "import pandas as pd\n",
    "from math import log\n",
    "%matplotlib inline\n",
    "DATA_FILE = '../Data/original_titanic.csv'\n",
    "df = None"
   ]
  },
  {
   "cell_type": "code",
   "execution_count": 2,
   "metadata": {},
   "outputs": [],
   "source": [
    "def prepareData(df):\n",
    "    # TODO: implement\n",
    "    return df\n",
    "df = prepareData(df)"
   ]
  },
  {
   "cell_type": "markdown",
   "metadata": {},
   "source": [
    "## 3.1) Bestimmen einer multivarianten normalverteilten WDF\n",
    "Bisher haben wir für jedes einzelne Merkmal isoliert die klassenbedingten Wahrscheinlichkeiten berechnet. Dies hat wie bereits erwähnt, den Nachteil, dass wir keine Korrelation zwischen den einzelnen Merkmalen modellieren können.\n",
    "\n",
    "Fasst man mehrere kontinuierliche Merkmale in einem Merkmalsvektor zusammen, kann die Verteilung der Merkmale als mehrdimensionale (multivariante) Wahrscheilichkeitsdichtefunktion modeliert werden:\n",
    "\n",
    "Sei $\\vec x \\in R^p$ ein Merkmalsvektor in Spaltenform, $\\Sigma$ die Kovarianzmatrix sowie $\\vec \\mu$ der Erwartungswert, dann ist die p-Dimensionale multivariante normalverteilte Wahrscheinlichkeitsdichtefunktion gegeben als\n",
    "\n",
    "$\\mathcal N_{p,\\vec \\mu,\\mathbf \\Sigma}(\\vec x) = \\frac{1}{\\sqrt{(2\\pi)^{p} det(\\mathbf \\Sigma)}}\\exp{\\left(-\\frac{1}{2}(\\vec x-\\vec \\mu)^T\\mathbf \\Sigma^{-1}(\\vec x - \\vec \\mu)\\right)}$\n",
    "\n",
    "Aufgrund der limitierten Visualisierbarkeit (sowie dem Mangel an quantitativen Merkmalen im vorliegenden Titanic-Datensatz) wollen wir uns im folgenden auf Merkmalsvektoren $\\vec x \\in R^2$ beschränken.\n",
    "\n",
    "\n",
    "Verschaffen Sie sich zunächst einen Überblick über die Korrelation der Merkmale Age und Fare (im Bezug auf die Klassenzugehörigkeit) mit Hilfe eines scatter plots. Wie müsten die jeweiligen WDFs aussehen? Was können Sie über die Korrelation der Merkmale sagen?\n"
   ]
  },
  {
   "cell_type": "code",
   "execution_count": null,
   "metadata": {},
   "outputs": [],
   "source": []
  },
  {
   "cell_type": "markdown",
   "metadata": {},
   "source": [
    "### 3.1.1) Kovarianzmatrix\n",
    "Um die multivariante WDF $\\mathcal N_{\\vec \\mu,\\mathbf \\Sigma}(\\vec x)$ zu berechnen, muss zu erst die Kovarianzmatrix $\\Sigma$ berechnet werden.\n",
    "\n",
    "Schreiben Sie eine **eigene** Funktion (ohne Zuhilfenahme der diversen cov() Implementierungen..) welche die $2\\times2$ Kovarianzmatrix $\\Sigma$ für zwei beliebige Zufallsvariablen berechnet. "
   ]
  },
  {
   "cell_type": "code",
   "execution_count": 3,
   "metadata": {},
   "outputs": [],
   "source": [
    "#X,Y are suposed to be numpy arrays\n",
    "def covMatrix2D(X,Y):\n",
    "    pass"
   ]
  },
  {
   "cell_type": "markdown",
   "metadata": {},
   "source": [
    "Werten Sie Ihre Funktion für die beiden Merkamle *Age* und *Fare* aus und vergleichen Sie die Resultate mit der cov() Funktion von pandas. Stimmen Ihre Berechnungen?"
   ]
  },
  {
   "cell_type": "code",
   "execution_count": null,
   "metadata": {},
   "outputs": [],
   "source": []
  },
  {
   "cell_type": "markdown",
   "metadata": {},
   "source": [
    "Interpretieren Sie die Werte in der berechneten Kovarianzmatrix im Bezug auf den scatter Plot der Merkmale. Was können Sie über den Zusammenhang zwischen den beiden Merkmalen sagen? Und was nicht?\n"
   ]
  },
  {
   "cell_type": "markdown",
   "metadata": {},
   "source": [
    "Berechnen Sie zusätzlich den Korrelationskoeffizienten für die Merkmale *Age* und *Fare*. Interpretieren Sie den Wert."
   ]
  },
  {
   "cell_type": "code",
   "execution_count": 4,
   "metadata": {},
   "outputs": [],
   "source": [
    "def corr(X,Y):\n",
    "    pass"
   ]
  },
  {
   "cell_type": "markdown",
   "metadata": {},
   "source": [
    "### 3.1.2)  Gauss 2D\n",
    "Schreiben Sie eine Funktion zur Berechnung der zweidimensionalen Gauss-Funktion. Nutzen Sie für die Matrix-Operationen das entsprechende lineare Algebra Modul von numpy (http://docs.scipy.org/doc/numpy-1.10.0/reference/routines.linalg.html). Tipp: Verwenden Sie als Datentyp np.matrix."
   ]
  },
  {
   "cell_type": "code",
   "execution_count": 5,
   "metadata": {},
   "outputs": [],
   "source": [
    "def gaussian2D(X,MU,cov):\n",
    "    return "
   ]
  },
  {
   "cell_type": "markdown",
   "metadata": {},
   "source": [
    "Berechnen Sie den Mittelwert sowie die Kovarianzmatrix für die Verteilung der Merkmalsvektoren $\\vec x = (Age,Fare)^T$ und werten Sie die entsprechende WDF an einer beliebigen Stelle aus. Welcher Merkmalsvektor maximiert die Funktion?"
   ]
  },
  {
   "cell_type": "code",
   "execution_count": null,
   "metadata": {},
   "outputs": [],
   "source": []
  },
  {
   "cell_type": "code",
   "execution_count": null,
   "metadata": {},
   "outputs": [],
   "source": []
  },
  {
   "cell_type": "markdown",
   "metadata": {},
   "source": [
    "Schreiben Sie eine Funktion um eine 2D-WDF in einem Contour-Plot darstellen zu können (http://matplotlib.org/mpl_toolkits/mplot3d/tutorial.html).\n",
    "Visualisieren Sie die 2D-WDF für die Merkamle *Age* und *Fare* und interpretieren Sie das Ergebnis."
   ]
  },
  {
   "cell_type": "code",
   "execution_count": 6,
   "metadata": {
    "scrolled": true
   },
   "outputs": [
    {
     "ename": "AttributeError",
     "evalue": "'NoneType' object has no attribute 'Age'",
     "output_type": "error",
     "traceback": [
      "\u001b[0;31m---------------------------------------------------------------------------\u001b[0m",
      "\u001b[0;31mAttributeError\u001b[0m                            Traceback (most recent call last)",
      "\u001b[0;32m<ipython-input-6-8e80dec796e7>\u001b[0m in \u001b[0;36m<module>\u001b[0;34m\u001b[0m\n\u001b[1;32m     12\u001b[0m     \u001b[0mplt\u001b[0m\u001b[0;34m.\u001b[0m\u001b[0mcontour\u001b[0m\u001b[0;34m(\u001b[0m\u001b[0mx\u001b[0m\u001b[0;34m,\u001b[0m\u001b[0my\u001b[0m\u001b[0;34m,\u001b[0m\u001b[0mZ\u001b[0m\u001b[0;34m.\u001b[0m\u001b[0mT\u001b[0m\u001b[0;34m)\u001b[0m\u001b[0;34m\u001b[0m\u001b[0;34m\u001b[0m\u001b[0m\n\u001b[1;32m     13\u001b[0m \u001b[0;34m\u001b[0m\u001b[0m\n\u001b[0;32m---> 14\u001b[0;31m \u001b[0mplot2DWDF\u001b[0m\u001b[0;34m(\u001b[0m\u001b[0mdf\u001b[0m\u001b[0;34m.\u001b[0m\u001b[0mAge\u001b[0m\u001b[0;34m.\u001b[0m\u001b[0mvalues\u001b[0m\u001b[0;34m,\u001b[0m\u001b[0mdf\u001b[0m\u001b[0;34m.\u001b[0m\u001b[0mFare\u001b[0m\u001b[0;34m.\u001b[0m\u001b[0mvalues\u001b[0m\u001b[0;34m)\u001b[0m\u001b[0;34m\u001b[0m\u001b[0;34m\u001b[0m\u001b[0m\n\u001b[0m",
      "\u001b[0;31mAttributeError\u001b[0m: 'NoneType' object has no attribute 'Age'"
     ]
    }
   ],
   "source": [
    "def plot2DWDF(X,Y):\n",
    "    x = np.linspace(0,200,20)\n",
    "    y = np.linspace(0,200,20)\n",
    "\n",
    "    COV = covMatrix2D(X,Y)\n",
    "    MU = np.matrix([X.mean(),Y.mean()])\n",
    "    Z = np.zeros((len(x), len(y)))\n",
    "    for i in range(len(x)):\n",
    "        for j in range(len(y)):\n",
    "            Z[i, j] = gaussian2D([x[i], y[j]],MU,COV) \n",
    "        \n",
    "    plt.contour(x,y,Z.T)\n",
    "     \n",
    "plot2DWDF(df.Age.values,df.Fare.values)"
   ]
  },
  {
   "cell_type": "markdown",
   "metadata": {},
   "source": [
    "Visualisieren Sie die WDF zusätzlich mit einem Wireframe / oder Surface plot."
   ]
  },
  {
   "cell_type": "code",
   "execution_count": null,
   "metadata": {},
   "outputs": [],
   "source": []
  },
  {
   "cell_type": "markdown",
   "metadata": {},
   "source": [
    "## 3.2) Klassenbedingte multivariante Wahrscheinlichkeit (likelihood)\n",
    "In dieser Aufgabe sollen die statistischen Methoden aus der vorherigen Aufgabe in das Bayes-Klassifikationsframework integriert werden. \n",
    "\n",
    "Schätzen Sie die Parameter der multivarianten klassenbedingten Wahrscheinlichkeitsdichtefunktion $p(\\vec x \\vert C_{survived}),p(\\vec x \\vert C_{\\neg survived})$ mit $\\vec x = (Age,Fare)^T$ (Maximum-Likelihood Methode). Gehen Sie dabei von einer Normalverteilung aus. Visualisieren Sie die WDFs mit Ihrer in Aufgabe 3.1.2 implementierten Funktion. Wie bewerten Sie die Trennungswirksamkeit?"
   ]
  },
  {
   "cell_type": "code",
   "execution_count": null,
   "metadata": {},
   "outputs": [],
   "source": [
    "def pAgeFareSurvived(age,fare):\n",
    "    pass\n",
    "\n",
    "def pAgeFareNotSurvived(age,fare):\n",
    "    pass"
   ]
  },
  {
   "cell_type": "code",
   "execution_count": null,
   "metadata": {},
   "outputs": [],
   "source": []
  },
  {
   "cell_type": "markdown",
   "metadata": {},
   "source": [
    "## 3.3) Bayes-Klassifikator\n",
    "\n",
    "Fügen Sie analog zur Aufgabe 2 (naiver Bayes-Klassifikator) alle Bestandteile für den Bayes-Klassifikator zusammen. Berechnen Sie die a posteriori Wahrscheinlichkeiten und definieren Sie die entsprechende Entscheidungsfunktion. "
   ]
  },
  {
   "cell_type": "code",
   "execution_count": null,
   "metadata": {},
   "outputs": [],
   "source": [
    "def posteriorSurvived(age,sex,pclass,fare):\n",
    "    pass\n",
    "    \n",
    "def posteriorNotSurvived(age,sex,pclass,fare):\n",
    "    pass\n",
    "    \n",
    "def predict(age,sex,pclass,fare):\n",
    "    pass"
   ]
  },
  {
   "cell_type": "markdown",
   "metadata": {},
   "source": [
    "Testen Sie Ihren Klassifikator, erwarten Sie aber allein durch den Einsatz der Merkmale *Age* und *Fare* keine Wunder.."
   ]
  },
  {
   "cell_type": "code",
   "execution_count": null,
   "metadata": {},
   "outputs": [],
   "source": []
  },
  {
   "cell_type": "markdown",
   "metadata": {},
   "source": [
    "## 3.4 ) Zusatzaufgabe\n",
    "Kombinieren Sie die klassenbedingten Wahrscheinlichkeiten aus dieser und der letzten Aufgabe. Versuchen Sie durch weitere Merkmale und/oder der Ausnutzung von Korrelation von Merkmalen Ihren Bayes-Klassifikator weiter zu verbessern."
   ]
  },
  {
   "cell_type": "code",
   "execution_count": null,
   "metadata": {},
   "outputs": [],
   "source": []
  }
 ],
 "metadata": {
  "kernelspec": {
   "display_name": "Python 3",
   "language": "python",
   "name": "python3"
  },
  "language_info": {
   "codemirror_mode": {
    "name": "ipython",
    "version": 3
   },
   "file_extension": ".py",
   "mimetype": "text/x-python",
   "name": "python",
   "nbconvert_exporter": "python",
   "pygments_lexer": "ipython3",
   "version": "3.7.8"
  }
 },
 "nbformat": 4,
 "nbformat_minor": 2
}
